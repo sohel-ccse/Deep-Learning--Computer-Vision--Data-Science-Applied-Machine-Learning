{
 "cells": [
  {
   "cell_type": "code",
   "execution_count": 1,
   "id": "hydraulic-encoding",
   "metadata": {
    "_cell_guid": "b1076dfc-b9ad-4769-8c92-a6c4dae69d19",
    "_uuid": "8f2839f25d086af736a60e9eeb907d3b93b6e0e5",
    "execution": {
     "iopub.execute_input": "2021-05-13T20:22:52.267066Z",
     "iopub.status.busy": "2021-05-13T20:22:52.266361Z",
     "iopub.status.idle": "2021-05-13T20:22:52.268064Z",
     "shell.execute_reply": "2021-05-13T20:22:52.267564Z"
    },
    "papermill": {
     "duration": 0.023602,
     "end_time": "2021-05-13T20:22:52.268186",
     "exception": false,
     "start_time": "2021-05-13T20:22:52.244584",
     "status": "completed"
    },
    "tags": []
   },
   "outputs": [],
   "source": [
    "# This Python 3 environment comes with many helpful analytics libraries installed\n",
    "# It is defined by the kaggle/python Docker image: https://github.com/kaggle/docker-python\n",
    "# For example, here's several helpful packages to load\n",
    "\n",
    "import numpy as np # linear algebra\n",
    "import pandas as pd # data processing, CSV file I/O (e.g. pd.read_csv)\n",
    "\n",
    "# Input data files are available in the read-only \"../input/\" directory\n",
    "# For example, running this (by clicking run or pressing Shift+Enter) will list all files under the input directory\n",
    "\n",
    "import os\n"
   ]
  },
  {
   "cell_type": "code",
   "execution_count": 2,
   "id": "treated-excellence",
   "metadata": {
    "execution": {
     "iopub.execute_input": "2021-05-13T20:22:52.299548Z",
     "iopub.status.busy": "2021-05-13T20:22:52.298906Z",
     "iopub.status.idle": "2021-05-13T20:22:57.776319Z",
     "shell.execute_reply": "2021-05-13T20:22:57.774898Z"
    },
    "papermill": {
     "duration": 5.494689,
     "end_time": "2021-05-13T20:22:57.776455",
     "exception": false,
     "start_time": "2021-05-13T20:22:52.281766",
     "status": "completed"
    },
    "tags": []
   },
   "outputs": [],
   "source": [
    "import keras\n",
    "\n",
    "import keras.layers as L\n",
    "\n",
    "import keras.models as M\n",
    "\n",
    "import tensorflow as tf\n",
    "\n",
    "from PIL import Image\n",
    "\n",
    "import matplotlib.pyplot as plt\n",
    "\n",
    "import cv2\n",
    "\n",
    "from keras.utils import Sequence"
   ]
  },
  {
   "cell_type": "code",
   "execution_count": 3,
   "id": "chicken-remedy",
   "metadata": {
    "execution": {
     "iopub.execute_input": "2021-05-13T20:22:57.818336Z",
     "iopub.status.busy": "2021-05-13T20:22:57.817827Z",
     "iopub.status.idle": "2021-05-13T20:22:58.240110Z",
     "shell.execute_reply": "2021-05-13T20:22:58.239256Z"
    },
    "papermill": {
     "duration": 0.44926,
     "end_time": "2021-05-13T20:22:58.240249",
     "exception": false,
     "start_time": "2021-05-13T20:22:57.790989",
     "status": "completed"
    },
    "tags": []
   },
   "outputs": [],
   "source": [
    "train=pd.read_csv('../input/handwriting-recognition/written_name_train_v2.csv')\n",
    "validation=pd.read_csv('../input/handwriting-recognition/written_name_validation_v2.csv')\n"
   ]
  },
  {
   "cell_type": "code",
   "execution_count": 4,
   "id": "special-church",
   "metadata": {
    "execution": {
     "iopub.execute_input": "2021-05-13T20:22:58.333542Z",
     "iopub.status.busy": "2021-05-13T20:22:58.332919Z",
     "iopub.status.idle": "2021-05-13T20:22:58.378333Z",
     "shell.execute_reply": "2021-05-13T20:22:58.377288Z"
    },
    "papermill": {
     "duration": 0.123146,
     "end_time": "2021-05-13T20:22:58.378467",
     "exception": false,
     "start_time": "2021-05-13T20:22:58.255321",
     "status": "completed"
    },
    "tags": []
   },
   "outputs": [],
   "source": [
    "train.dropna(inplace=True)"
   ]
  },
  {
   "cell_type": "code",
   "execution_count": 5,
   "id": "secure-avatar",
   "metadata": {
    "execution": {
     "iopub.execute_input": "2021-05-13T20:22:58.416391Z",
     "iopub.status.busy": "2021-05-13T20:22:58.415332Z",
     "iopub.status.idle": "2021-05-13T20:22:58.428814Z",
     "shell.execute_reply": "2021-05-13T20:22:58.429246Z"
    },
    "papermill": {
     "duration": 0.036076,
     "end_time": "2021-05-13T20:22:58.429377",
     "exception": false,
     "start_time": "2021-05-13T20:22:58.393301",
     "status": "completed"
    },
    "tags": []
   },
   "outputs": [
    {
     "data": {
      "text/html": [
       "<div>\n",
       "<style scoped>\n",
       "    .dataframe tbody tr th:only-of-type {\n",
       "        vertical-align: middle;\n",
       "    }\n",
       "\n",
       "    .dataframe tbody tr th {\n",
       "        vertical-align: top;\n",
       "    }\n",
       "\n",
       "    .dataframe thead th {\n",
       "        text-align: right;\n",
       "    }\n",
       "</style>\n",
       "<table border=\"1\" class=\"dataframe\">\n",
       "  <thead>\n",
       "    <tr style=\"text-align: right;\">\n",
       "      <th></th>\n",
       "      <th>FILENAME</th>\n",
       "      <th>IDENTITY</th>\n",
       "    </tr>\n",
       "  </thead>\n",
       "  <tbody>\n",
       "    <tr>\n",
       "      <th>0</th>\n",
       "      <td>TRAIN_00001.jpg</td>\n",
       "      <td>BALTHAZAR</td>\n",
       "    </tr>\n",
       "    <tr>\n",
       "      <th>1</th>\n",
       "      <td>TRAIN_00002.jpg</td>\n",
       "      <td>SIMON</td>\n",
       "    </tr>\n",
       "    <tr>\n",
       "      <th>2</th>\n",
       "      <td>TRAIN_00003.jpg</td>\n",
       "      <td>BENES</td>\n",
       "    </tr>\n",
       "    <tr>\n",
       "      <th>3</th>\n",
       "      <td>TRAIN_00004.jpg</td>\n",
       "      <td>LA LOVE</td>\n",
       "    </tr>\n",
       "    <tr>\n",
       "      <th>4</th>\n",
       "      <td>TRAIN_00005.jpg</td>\n",
       "      <td>DAPHNE</td>\n",
       "    </tr>\n",
       "  </tbody>\n",
       "</table>\n",
       "</div>"
      ],
      "text/plain": [
       "          FILENAME   IDENTITY\n",
       "0  TRAIN_00001.jpg  BALTHAZAR\n",
       "1  TRAIN_00002.jpg      SIMON\n",
       "2  TRAIN_00003.jpg      BENES\n",
       "3  TRAIN_00004.jpg    LA LOVE\n",
       "4  TRAIN_00005.jpg     DAPHNE"
      ]
     },
     "execution_count": 5,
     "metadata": {},
     "output_type": "execute_result"
    }
   ],
   "source": [
    "train.head()"
   ]
  },
  {
   "cell_type": "code",
   "execution_count": 6,
   "id": "painted-strike",
   "metadata": {
    "execution": {
     "iopub.execute_input": "2021-05-13T20:22:58.508001Z",
     "iopub.status.busy": "2021-05-13T20:22:58.507165Z",
     "iopub.status.idle": "2021-05-13T20:22:58.515092Z",
     "shell.execute_reply": "2021-05-13T20:22:58.514664Z"
    },
    "papermill": {
     "duration": 0.070201,
     "end_time": "2021-05-13T20:22:58.515196",
     "exception": false,
     "start_time": "2021-05-13T20:22:58.444995",
     "status": "completed"
    },
    "tags": []
   },
   "outputs": [
    {
     "data": {
      "text/html": [
       "<div>\n",
       "<style scoped>\n",
       "    .dataframe tbody tr th:only-of-type {\n",
       "        vertical-align: middle;\n",
       "    }\n",
       "\n",
       "    .dataframe tbody tr th {\n",
       "        vertical-align: top;\n",
       "    }\n",
       "\n",
       "    .dataframe thead th {\n",
       "        text-align: right;\n",
       "    }\n",
       "</style>\n",
       "<table border=\"1\" class=\"dataframe\">\n",
       "  <thead>\n",
       "    <tr style=\"text-align: right;\">\n",
       "      <th></th>\n",
       "      <th>FILENAME</th>\n",
       "      <th>IDENTITY</th>\n",
       "    </tr>\n",
       "  </thead>\n",
       "  <tbody>\n",
       "    <tr>\n",
       "      <th>20507</th>\n",
       "      <td>TRAIN_20508.jpg</td>\n",
       "      <td>zucchi</td>\n",
       "    </tr>\n",
       "  </tbody>\n",
       "</table>\n",
       "</div>"
      ],
      "text/plain": [
       "              FILENAME IDENTITY\n",
       "20507  TRAIN_20508.jpg   zucchi"
      ]
     },
     "execution_count": 6,
     "metadata": {},
     "output_type": "execute_result"
    }
   ],
   "source": [
    "train[train['IDENTITY']=='zucchi']"
   ]
  },
  {
   "cell_type": "code",
   "execution_count": 7,
   "id": "active-panel",
   "metadata": {
    "execution": {
     "iopub.execute_input": "2021-05-13T20:22:58.552779Z",
     "iopub.status.busy": "2021-05-13T20:22:58.551965Z",
     "iopub.status.idle": "2021-05-13T20:22:58.992267Z",
     "shell.execute_reply": "2021-05-13T20:22:58.992696Z"
    },
    "papermill": {
     "duration": 0.461037,
     "end_time": "2021-05-13T20:22:58.992846",
     "exception": false,
     "start_time": "2021-05-13T20:22:58.531809",
     "status": "completed"
    },
    "tags": []
   },
   "outputs": [
    {
     "data": {
      "text/html": [
       "<div>\n",
       "<style scoped>\n",
       "    .dataframe tbody tr th:only-of-type {\n",
       "        vertical-align: middle;\n",
       "    }\n",
       "\n",
       "    .dataframe tbody tr th {\n",
       "        vertical-align: top;\n",
       "    }\n",
       "\n",
       "    .dataframe thead th {\n",
       "        text-align: right;\n",
       "    }\n",
       "</style>\n",
       "<table border=\"1\" class=\"dataframe\">\n",
       "  <thead>\n",
       "    <tr style=\"text-align: right;\">\n",
       "      <th></th>\n",
       "      <th>FILENAME</th>\n",
       "      <th>IDENTITY</th>\n",
       "      <th>Length</th>\n",
       "    </tr>\n",
       "  </thead>\n",
       "  <tbody>\n",
       "    <tr>\n",
       "      <th>10278</th>\n",
       "      <td>TRAIN_10279.jpg</td>\n",
       "      <td>DOSSANTOS LASCONCELOS</td>\n",
       "      <td>21</td>\n",
       "    </tr>\n",
       "    <tr>\n",
       "      <th>108567</th>\n",
       "      <td>TRAIN_108568.jpg</td>\n",
       "      <td>O ZUARRDI EREBEVITRAC</td>\n",
       "      <td>21</td>\n",
       "    </tr>\n",
       "    <tr>\n",
       "      <th>156500</th>\n",
       "      <td>TRAIN_156501.jpg</td>\n",
       "      <td>ANDRIANNARISOA--DEGHI</td>\n",
       "      <td>21</td>\n",
       "    </tr>\n",
       "    <tr>\n",
       "      <th>160575</th>\n",
       "      <td>TRAIN_160576.jpg</td>\n",
       "      <td>LOUISIANE - EVANGELIN</td>\n",
       "      <td>21</td>\n",
       "    </tr>\n",
       "    <tr>\n",
       "      <th>174121</th>\n",
       "      <td>TRAIN_174122.jpg</td>\n",
       "      <td>GU ILLOSSOO - OARRIBA</td>\n",
       "      <td>21</td>\n",
       "    </tr>\n",
       "    <tr>\n",
       "      <th>212583</th>\n",
       "      <td>TRAIN_212584.jpg</td>\n",
       "      <td>DE MALEZIEUX DU HAMEL</td>\n",
       "      <td>21</td>\n",
       "    </tr>\n",
       "    <tr>\n",
       "      <th>220135</th>\n",
       "      <td>TRAIN_220136.jpg</td>\n",
       "      <td>COSTREL DE CORAINVILL</td>\n",
       "      <td>21</td>\n",
       "    </tr>\n",
       "    <tr>\n",
       "      <th>229529</th>\n",
       "      <td>TRAIN_229530.jpg</td>\n",
       "      <td>ROUSSEAV -- CHAUDIERE</td>\n",
       "      <td>21</td>\n",
       "    </tr>\n",
       "    <tr>\n",
       "      <th>230011</th>\n",
       "      <td>TRAIN_230012.jpg</td>\n",
       "      <td>BEKNARD DE LAVERNETTE</td>\n",
       "      <td>21</td>\n",
       "    </tr>\n",
       "    <tr>\n",
       "      <th>308769</th>\n",
       "      <td>TRAIN_308770.jpg</td>\n",
       "      <td>DATE NAISSANCE CLASSE</td>\n",
       "      <td>21</td>\n",
       "    </tr>\n",
       "    <tr>\n",
       "      <th>325215</th>\n",
       "      <td>TRAIN_325216.jpg</td>\n",
       "      <td>BEHARY - LAUL - SIRDE</td>\n",
       "      <td>21</td>\n",
       "    </tr>\n",
       "  </tbody>\n",
       "</table>\n",
       "</div>"
      ],
      "text/plain": [
       "                FILENAME               IDENTITY  Length\n",
       "10278    TRAIN_10279.jpg  DOSSANTOS LASCONCELOS      21\n",
       "108567  TRAIN_108568.jpg  O ZUARRDI EREBEVITRAC      21\n",
       "156500  TRAIN_156501.jpg  ANDRIANNARISOA--DEGHI      21\n",
       "160575  TRAIN_160576.jpg  LOUISIANE - EVANGELIN      21\n",
       "174121  TRAIN_174122.jpg  GU ILLOSSOO - OARRIBA      21\n",
       "212583  TRAIN_212584.jpg  DE MALEZIEUX DU HAMEL      21\n",
       "220135  TRAIN_220136.jpg  COSTREL DE CORAINVILL      21\n",
       "229529  TRAIN_229530.jpg  ROUSSEAV -- CHAUDIERE      21\n",
       "230011  TRAIN_230012.jpg  BEKNARD DE LAVERNETTE      21\n",
       "308769  TRAIN_308770.jpg  DATE NAISSANCE CLASSE      21\n",
       "325215  TRAIN_325216.jpg  BEHARY - LAUL - SIRDE      21"
      ]
     },
     "execution_count": 7,
     "metadata": {},
     "output_type": "execute_result"
    }
   ],
   "source": [
    "train['Length']=train['IDENTITY'].apply(lambda x : len(str(x)))\n",
    "train=train[train['Length']<=21]\n",
    "train['IDENTITY']=train['IDENTITY'].str.upper()\n",
    "train[train['Length']==max(train['Length'])]"
   ]
  },
  {
   "cell_type": "code",
   "execution_count": 8,
   "id": "white-award",
   "metadata": {
    "execution": {
     "iopub.execute_input": "2021-05-13T20:22:59.028199Z",
     "iopub.status.busy": "2021-05-13T20:22:59.027496Z",
     "iopub.status.idle": "2021-05-13T20:22:59.098024Z",
     "shell.execute_reply": "2021-05-13T20:22:59.097572Z"
    },
    "papermill": {
     "duration": 0.090135,
     "end_time": "2021-05-13T20:22:59.098150",
     "exception": false,
     "start_time": "2021-05-13T20:22:59.008015",
     "status": "completed"
    },
    "tags": []
   },
   "outputs": [],
   "source": [
    "train=train.sample(frac=0.8,random_state=42)\n",
    "validation=validation.sample(frac=0.1)"
   ]
  },
  {
   "cell_type": "code",
   "execution_count": 9,
   "id": "congressional-lunch",
   "metadata": {
    "execution": {
     "iopub.execute_input": "2021-05-13T20:22:59.139284Z",
     "iopub.status.busy": "2021-05-13T20:22:59.138483Z",
     "iopub.status.idle": "2021-05-13T20:22:59.422269Z",
     "shell.execute_reply": "2021-05-13T20:22:59.421790Z"
    },
    "papermill": {
     "duration": 0.308657,
     "end_time": "2021-05-13T20:22:59.422399",
     "exception": false,
     "start_time": "2021-05-13T20:22:59.113742",
     "status": "completed"
    },
    "tags": []
   },
   "outputs": [],
   "source": [
    "characters=set()\n",
    "train['IDENTITY']=train['IDENTITY'].apply(lambda x: str(x))\n",
    "for i in train['IDENTITY'].values:\n",
    "    for j in i :\n",
    "        if j not in characters :\n",
    "            characters.add(j)\n",
    "characters=sorted(characters)"
   ]
  },
  {
   "cell_type": "code",
   "execution_count": 10,
   "id": "democratic-stomach",
   "metadata": {
    "execution": {
     "iopub.execute_input": "2021-05-13T20:22:59.458812Z",
     "iopub.status.busy": "2021-05-13T20:22:59.458107Z",
     "iopub.status.idle": "2021-05-13T20:22:59.460671Z",
     "shell.execute_reply": "2021-05-13T20:22:59.461049Z"
    },
    "papermill": {
     "duration": 0.022204,
     "end_time": "2021-05-13T20:22:59.461177",
     "exception": false,
     "start_time": "2021-05-13T20:22:59.438973",
     "status": "completed"
    },
    "tags": []
   },
   "outputs": [],
   "source": [
    "\n",
    "# 2 Dictionaries  :   Turn all ur characters to num and vice versa\n",
    "char_to_label = {char:label for label,char in enumerate(characters)}\n",
    "label_to_char = {label:char for label,char in enumerate(characters)}"
   ]
  },
  {
   "cell_type": "code",
   "execution_count": 11,
   "id": "concerned-example",
   "metadata": {
    "execution": {
     "iopub.execute_input": "2021-05-13T20:22:59.495527Z",
     "iopub.status.busy": "2021-05-13T20:22:59.494912Z",
     "iopub.status.idle": "2021-05-13T20:22:59.497830Z",
     "shell.execute_reply": "2021-05-13T20:22:59.497418Z"
    },
    "papermill": {
     "duration": 0.021392,
     "end_time": "2021-05-13T20:22:59.497944",
     "exception": false,
     "start_time": "2021-05-13T20:22:59.476552",
     "status": "completed"
    },
    "tags": []
   },
   "outputs": [],
   "source": [
    "path_train='../input/handwriting-recognition/train_v2/train'\n",
    "path_validation='../input/handwriting-recognition/validation_v2/validation'"
   ]
  },
  {
   "cell_type": "code",
   "execution_count": 12,
   "id": "static-martin",
   "metadata": {
    "execution": {
     "iopub.execute_input": "2021-05-13T20:22:59.543848Z",
     "iopub.status.busy": "2021-05-13T20:22:59.543061Z",
     "iopub.status.idle": "2021-05-13T20:22:59.545437Z",
     "shell.execute_reply": "2021-05-13T20:22:59.545828Z"
    },
    "papermill": {
     "duration": 0.03263,
     "end_time": "2021-05-13T20:22:59.545958",
     "exception": false,
     "start_time": "2021-05-13T20:22:59.513328",
     "status": "completed"
    },
    "tags": []
   },
   "outputs": [],
   "source": [
    "# Data Generator\n",
    "class DataGenerator(Sequence):\n",
    "    def __init__(self,dataframe,path,char_map,batch_size=128,img_size=(256,64),\n",
    "                 downsample_factor=4,max_length=22,shuffle=True):\n",
    "        self.dataframe=dataframe\n",
    "        self.path=path\n",
    "        self.char_map=char_map\n",
    "        self.batch_size=batch_size\n",
    "        self.width=img_size[0]\n",
    "        self.height=img_size[1]\n",
    "        self.downsample_factor=downsample_factor\n",
    "        self.max_length=max_length\n",
    "        self.shuffle=shuffle\n",
    "        self.indices = np.arange(len(dataframe))\n",
    "        self.on_epoch_end()\n",
    "        \n",
    "    def __len__(self):\n",
    "        return len(self.dataframe)//self.batch_size\n",
    "    \n",
    "    def __getitem__(self,idx):\n",
    "        curr_batch_idx=self.indices[idx*self.batch_size:(idx+1)*self.batch_size]\n",
    "        batch_images=np.ones((self.batch_size,self.width,self.height,1),dtype=np.float32)\n",
    "        batch_labels=np.ones((self.batch_size,self.max_length),dtype=np.float32)\n",
    "        input_length=np.ones((self.batch_size,1),dtype=np.float32)*(self.width//self.downsample_factor-2)\n",
    "        label_length=np.zeros((self.batch_size,1),dtype=np.int64)\n",
    "        for i,idx in enumerate(curr_batch_idx):\n",
    "            img_path=self.dataframe['FILENAME'].values[idx]\n",
    "            img=cv2.imread(self.path+'/'+img_path)\n",
    "            img=cv2.cvtColor(img, cv2.COLOR_BGR2GRAY)\n",
    "            img=cv2.resize(img,(self.width,self.height))\n",
    "            img=(img/255).astype(np.float32)\n",
    "            img=img.T\n",
    "            img=np.expand_dims(img,axis=-1)\n",
    "            text=self.dataframe['IDENTITY'].values[idx]\n",
    "            text=str(text)\n",
    "            label=[]\n",
    "            for j in text: \n",
    "                if j in self.char_map :\n",
    "                    label.append(self.char_map[j])\n",
    "                else:\n",
    "                    label.append(100)\n",
    "            label.extend([100]*(22-len(label)))\n",
    "            batch_images[i]=img\n",
    "            batch_labels[i]=label\n",
    "            label_length[i]=len(label)\n",
    "        batch_inputs= {\n",
    "                'input_data':batch_images,\n",
    "                'input_label':batch_labels,\n",
    "                'input_length':input_length,\n",
    "                'label_length':label_length\n",
    "                \n",
    "            }\n",
    "        return batch_inputs,np.zeros((self.batch_size),dtype=np.float32)\n",
    "    def on_epoch_end(self):\n",
    "        if self.shuffle == True :\n",
    "            np.random.shuffle(self.indices)"
   ]
  },
  {
   "cell_type": "code",
   "execution_count": 13,
   "id": "inappropriate-collins",
   "metadata": {
    "execution": {
     "iopub.execute_input": "2021-05-13T20:22:59.581802Z",
     "iopub.status.busy": "2021-05-13T20:22:59.581104Z",
     "iopub.status.idle": "2021-05-13T20:22:59.590180Z",
     "shell.execute_reply": "2021-05-13T20:22:59.589764Z"
    },
    "papermill": {
     "duration": 0.028118,
     "end_time": "2021-05-13T20:22:59.590286",
     "exception": false,
     "start_time": "2021-05-13T20:22:59.562168",
     "status": "completed"
    },
    "tags": []
   },
   "outputs": [],
   "source": [
    "train_generator=DataGenerator(train,path_train,char_to_label)\n",
    "validation_generator=DataGenerator(validation,path_validation,char_to_label)"
   ]
  },
  {
   "cell_type": "code",
   "execution_count": 14,
   "id": "japanese-necessity",
   "metadata": {
    "execution": {
     "iopub.execute_input": "2021-05-13T20:22:59.626989Z",
     "iopub.status.busy": "2021-05-13T20:22:59.626255Z",
     "iopub.status.idle": "2021-05-13T20:22:59.629082Z",
     "shell.execute_reply": "2021-05-13T20:22:59.628682Z"
    },
    "papermill": {
     "duration": 0.023186,
     "end_time": "2021-05-13T20:22:59.629183",
     "exception": false,
     "start_time": "2021-05-13T20:22:59.605997",
     "status": "completed"
    },
    "tags": []
   },
   "outputs": [],
   "source": [
    "# Making CTC Function\n",
    "class CTCLayer(L.Layer):\n",
    "    def __init__(self, name=None):\n",
    "        super().__init__(name=name)\n",
    "        self.loss_fn = keras.backend.ctc_batch_cost\n",
    "\n",
    "    def call(self, y_true, y_pred, input_length, label_length):\n",
    "        # Compute the training-time loss value and add it\n",
    "        # to the layer using `self.add_loss()`.\n",
    "        loss = self.loss_fn(y_true, y_pred, input_length, label_length)\n",
    "        self.add_loss(loss)\n",
    "        \n",
    "        # On test time, just return the computed loss\n",
    "        return loss"
   ]
  },
  {
   "cell_type": "code",
   "execution_count": 15,
   "id": "velvet-assist",
   "metadata": {
    "execution": {
     "iopub.execute_input": "2021-05-13T20:22:59.672465Z",
     "iopub.status.busy": "2021-05-13T20:22:59.671770Z",
     "iopub.status.idle": "2021-05-13T20:22:59.674619Z",
     "shell.execute_reply": "2021-05-13T20:22:59.674180Z"
    },
    "papermill": {
     "duration": 0.029749,
     "end_time": "2021-05-13T20:22:59.674721",
     "exception": false,
     "start_time": "2021-05-13T20:22:59.644972",
     "status": "completed"
    },
    "tags": []
   },
   "outputs": [],
   "source": [
    "# Making the Model now\n",
    "def make_model():\n",
    "    inp=L.Input(shape=(256,64,1),dtype=np.float32,name='input_data')\n",
    "    labels=L.Input(shape=[22],dtype=np.float32,name='input_label')\n",
    "    input_length=L.Input(shape=[1],dtype=np.int64,name='input_length')\n",
    "    label_length=L.Input(shape=[1],dtype=np.int64,name='label_length')\n",
    "    x=L.Conv2D(64,(3,3),activation='relu',padding='same',kernel_initializer='he_normal')(inp)\n",
    "    x=L.MaxPooling2D(pool_size=(2,2))(x)\n",
    "    x=L.Dropout(0.3)(x)\n",
    "    x=L.Conv2D(128,(3,3),activation='relu',padding='same',kernel_initializer='he_normal')(x)\n",
    "    x=L.MaxPooling2D(pool_size=(2,2))(x)\n",
    "    x=L.Dropout(0.3)(x)\n",
    "    new_shape=((256//4),(64//4)*128)\n",
    "    x=L.Reshape(new_shape)(x)\n",
    "    x=L.Dense(64,activation='relu')(x)\n",
    "    x=L.Dropout(0.2)(x)\n",
    "    x=L.Bidirectional(L.LSTM(128,return_sequences=True,dropout=0.2))(x)\n",
    "    x=L.Bidirectional(L.LSTM(64,return_sequences=True,dropout=0.25))(x)\n",
    "    x=L.Dense(len(characters)+1,activation='softmax',kernel_initializer='he_normal',name='Dense_output')(x)\n",
    "    output=CTCLayer(name='outputs')(labels,x,input_length,label_length)\n",
    "    model=M.Model([inp,labels,input_length,label_length],output)\n",
    "    # Optimizer\n",
    "    sgd = keras.optimizers.SGD(learning_rate=0.002,\n",
    "                               decay=1e-6,\n",
    "                               momentum=0.9,\n",
    "                               nesterov=True,\n",
    "                               clipnorm=5)\n",
    "    model.compile(optimizer=sgd)\n",
    "    return model"
   ]
  },
  {
   "cell_type": "code",
   "execution_count": 16,
   "id": "banner-spouse",
   "metadata": {
    "execution": {
     "iopub.execute_input": "2021-05-13T20:22:59.709998Z",
     "iopub.status.busy": "2021-05-13T20:22:59.709456Z",
     "iopub.status.idle": "2021-05-13T20:23:03.404100Z",
     "shell.execute_reply": "2021-05-13T20:23:03.403332Z"
    },
    "papermill": {
     "duration": 3.713581,
     "end_time": "2021-05-13T20:23:03.404290",
     "exception": false,
     "start_time": "2021-05-13T20:22:59.690709",
     "status": "completed"
    },
    "tags": []
   },
   "outputs": [
    {
     "name": "stdout",
     "output_type": "stream",
     "text": [
      "Model: \"model\"\n",
      "__________________________________________________________________________________________________\n",
      "Layer (type)                    Output Shape         Param #     Connected to                     \n",
      "==================================================================================================\n",
      "input_data (InputLayer)         [(None, 256, 64, 1)] 0                                            \n",
      "__________________________________________________________________________________________________\n",
      "conv2d (Conv2D)                 (None, 256, 64, 64)  640         input_data[0][0]                 \n",
      "__________________________________________________________________________________________________\n",
      "max_pooling2d (MaxPooling2D)    (None, 128, 32, 64)  0           conv2d[0][0]                     \n",
      "__________________________________________________________________________________________________\n",
      "dropout (Dropout)               (None, 128, 32, 64)  0           max_pooling2d[0][0]              \n",
      "__________________________________________________________________________________________________\n",
      "conv2d_1 (Conv2D)               (None, 128, 32, 128) 73856       dropout[0][0]                    \n",
      "__________________________________________________________________________________________________\n",
      "max_pooling2d_1 (MaxPooling2D)  (None, 64, 16, 128)  0           conv2d_1[0][0]                   \n",
      "__________________________________________________________________________________________________\n",
      "dropout_1 (Dropout)             (None, 64, 16, 128)  0           max_pooling2d_1[0][0]            \n",
      "__________________________________________________________________________________________________\n",
      "reshape (Reshape)               (None, 64, 2048)     0           dropout_1[0][0]                  \n",
      "__________________________________________________________________________________________________\n",
      "dense (Dense)                   (None, 64, 64)       131136      reshape[0][0]                    \n",
      "__________________________________________________________________________________________________\n",
      "dropout_2 (Dropout)             (None, 64, 64)       0           dense[0][0]                      \n",
      "__________________________________________________________________________________________________\n",
      "bidirectional (Bidirectional)   (None, 64, 256)      197632      dropout_2[0][0]                  \n",
      "__________________________________________________________________________________________________\n",
      "bidirectional_1 (Bidirectional) (None, 64, 128)      164352      bidirectional[0][0]              \n",
      "__________________________________________________________________________________________________\n",
      "input_label (InputLayer)        [(None, 22)]         0                                            \n",
      "__________________________________________________________________________________________________\n",
      "Dense_output (Dense)            (None, 64, 31)       3999        bidirectional_1[0][0]            \n",
      "__________________________________________________________________________________________________\n",
      "input_length (InputLayer)       [(None, 1)]          0                                            \n",
      "__________________________________________________________________________________________________\n",
      "label_length (InputLayer)       [(None, 1)]          0                                            \n",
      "__________________________________________________________________________________________________\n",
      "outputs (CTCLayer)              (None, 1)            0           input_label[0][0]                \n",
      "                                                                 Dense_output[0][0]               \n",
      "                                                                 input_length[0][0]               \n",
      "                                                                 label_length[0][0]               \n",
      "==================================================================================================\n",
      "Total params: 571,615\n",
      "Trainable params: 571,615\n",
      "Non-trainable params: 0\n",
      "__________________________________________________________________________________________________\n"
     ]
    }
   ],
   "source": [
    "model=make_model()\n",
    "\n",
    "model.summary()"
   ]
  },
  {
   "cell_type": "code",
   "execution_count": 17,
   "id": "constitutional-ivory",
   "metadata": {
    "execution": {
     "iopub.execute_input": "2021-05-13T20:23:03.442487Z",
     "iopub.status.busy": "2021-05-13T20:23:03.441950Z",
     "iopub.status.idle": "2021-05-13T21:26:46.313184Z",
     "shell.execute_reply": "2021-05-13T21:26:46.312729Z"
    },
    "papermill": {
     "duration": 3822.891873,
     "end_time": "2021-05-13T21:26:46.313311",
     "exception": false,
     "start_time": "2021-05-13T20:23:03.421438",
     "status": "completed"
    },
    "tags": []
   },
   "outputs": [
    {
     "name": "stdout",
     "output_type": "stream",
     "text": [
      "Epoch 1/8\n",
      "1000/1000 [==============================] - 1105s 1s/step - loss: 23.3547 - val_loss: 18.9896\n",
      "Epoch 2/8\n",
      "1000/1000 [==============================] - 595s 595ms/step - loss: 18.5611 - val_loss: 16.0713\n",
      "Epoch 3/8\n",
      "1000/1000 [==============================] - 444s 444ms/step - loss: 15.3475 - val_loss: 9.2887\n",
      "Epoch 4/8\n",
      "1000/1000 [==============================] - 364s 364ms/step - loss: 9.5792 - val_loss: 5.5895\n",
      "Epoch 5/8\n",
      "1000/1000 [==============================] - 339s 338ms/step - loss: 6.5188 - val_loss: 3.9589\n",
      "Epoch 6/8\n",
      "1000/1000 [==============================] - 335s 335ms/step - loss: 5.0527 - val_loss: 3.0999\n",
      "Epoch 7/8\n",
      "1000/1000 [==============================] - 325s 325ms/step - loss: 4.1297 - val_loss: 2.6362\n",
      "Epoch 8/8\n",
      "1000/1000 [==============================] - 314s 314ms/step - loss: 3.6086 - val_loss: 2.3323\n"
     ]
    }
   ],
   "source": [
    "# Add early stopping\n",
    "es = keras.callbacks.EarlyStopping(monitor='val_loss',\n",
    "                                   patience=5,\n",
    "                                   restore_best_weights=True)\n",
    "\n",
    "# Train the model\n",
    "if 'prediction_model_ocr.h5' not in os.listdir('./'):\n",
    "    history = model.fit(train_generator,steps_per_epoch=1000,validation_data=validation_generator,\n",
    "                        epochs=8)"
   ]
  },
  {
   "cell_type": "code",
   "execution_count": 18,
   "id": "sweet-tracker",
   "metadata": {
    "execution": {
     "iopub.execute_input": "2021-05-13T21:26:50.388636Z",
     "iopub.status.busy": "2021-05-13T21:26:50.387780Z",
     "iopub.status.idle": "2021-05-13T21:26:50.401074Z",
     "shell.execute_reply": "2021-05-13T21:26:50.400553Z"
    },
    "papermill": {
     "duration": 2.060866,
     "end_time": "2021-05-13T21:26:50.401183",
     "exception": false,
     "start_time": "2021-05-13T21:26:48.340317",
     "status": "completed"
    },
    "tags": []
   },
   "outputs": [
    {
     "name": "stdout",
     "output_type": "stream",
     "text": [
      "Model: \"model_1\"\n",
      "_________________________________________________________________\n",
      "Layer (type)                 Output Shape              Param #   \n",
      "=================================================================\n",
      "input_data (InputLayer)      [(None, 256, 64, 1)]      0         \n",
      "_________________________________________________________________\n",
      "conv2d (Conv2D)              (None, 256, 64, 64)       640       \n",
      "_________________________________________________________________\n",
      "max_pooling2d (MaxPooling2D) (None, 128, 32, 64)       0         \n",
      "_________________________________________________________________\n",
      "dropout (Dropout)            (None, 128, 32, 64)       0         \n",
      "_________________________________________________________________\n",
      "conv2d_1 (Conv2D)            (None, 128, 32, 128)      73856     \n",
      "_________________________________________________________________\n",
      "max_pooling2d_1 (MaxPooling2 (None, 64, 16, 128)       0         \n",
      "_________________________________________________________________\n",
      "dropout_1 (Dropout)          (None, 64, 16, 128)       0         \n",
      "_________________________________________________________________\n",
      "reshape (Reshape)            (None, 64, 2048)          0         \n",
      "_________________________________________________________________\n",
      "dense (Dense)                (None, 64, 64)            131136    \n",
      "_________________________________________________________________\n",
      "dropout_2 (Dropout)          (None, 64, 64)            0         \n",
      "_________________________________________________________________\n",
      "bidirectional (Bidirectional (None, 64, 256)           197632    \n",
      "_________________________________________________________________\n",
      "bidirectional_1 (Bidirection (None, 64, 128)           164352    \n",
      "_________________________________________________________________\n",
      "Dense_output (Dense)         (None, 64, 31)            3999      \n",
      "=================================================================\n",
      "Total params: 571,615\n",
      "Trainable params: 571,615\n",
      "Non-trainable params: 0\n",
      "_________________________________________________________________\n"
     ]
    }
   ],
   "source": [
    "prediction_model = keras.models.Model(model.get_layer(name='input_data').input,\n",
    "                                        model.get_layer(name='Dense_output').output)\n",
    "prediction_model.summary()"
   ]
  },
  {
   "cell_type": "code",
   "execution_count": 19,
   "id": "quality-debate",
   "metadata": {
    "execution": {
     "iopub.execute_input": "2021-05-13T21:26:54.532342Z",
     "iopub.status.busy": "2021-05-13T21:26:54.531469Z",
     "iopub.status.idle": "2021-05-13T21:26:55.788118Z",
     "shell.execute_reply": "2021-05-13T21:26:55.787336Z"
    },
    "papermill": {
     "duration": 3.317985,
     "end_time": "2021-05-13T21:26:55.788302",
     "exception": false,
     "start_time": "2021-05-13T21:26:52.470317",
     "status": "completed"
    },
    "tags": []
   },
   "outputs": [],
   "source": [
    "if 'prediction_model_ocr.h5' not in os.listdir('./'):\n",
    "    prediction_model.save('prediction_model_ocr.h5')\n",
    "    prediction_model=M.load_model('prediction_model_ocr.h5')"
   ]
  },
  {
   "cell_type": "code",
   "execution_count": 20,
   "id": "occupied-mission",
   "metadata": {
    "execution": {
     "iopub.execute_input": "2021-05-13T21:27:00.112361Z",
     "iopub.status.busy": "2021-05-13T21:27:00.111523Z",
     "iopub.status.idle": "2021-05-13T21:27:00.114295Z",
     "shell.execute_reply": "2021-05-13T21:27:00.113864Z"
    },
    "papermill": {
     "duration": 2.12023,
     "end_time": "2021-05-13T21:27:00.114405",
     "exception": false,
     "start_time": "2021-05-13T21:26:57.994175",
     "status": "completed"
    },
    "tags": []
   },
   "outputs": [],
   "source": [
    "label_to_char[100]=''"
   ]
  },
  {
   "cell_type": "code",
   "execution_count": 21,
   "id": "intellectual-amount",
   "metadata": {
    "execution": {
     "iopub.execute_input": "2021-05-13T21:27:04.268629Z",
     "iopub.status.busy": "2021-05-13T21:27:04.268026Z",
     "iopub.status.idle": "2021-05-13T21:27:04.272168Z",
     "shell.execute_reply": "2021-05-13T21:27:04.271722Z"
    },
    "papermill": {
     "duration": 2.108865,
     "end_time": "2021-05-13T21:27:04.272278",
     "exception": false,
     "start_time": "2021-05-13T21:27:02.163413",
     "status": "completed"
    },
    "tags": []
   },
   "outputs": [],
   "source": [
    "# A utility to decode the output of the network\n",
    "def decode_batch_predictions(pred):\n",
    "    pred = pred[:, :-2]\n",
    "    input_len = np.ones(pred.shape[0])*pred.shape[1]\n",
    "    \n",
    "    # Use greedy search. For complex tasks, you can use beam search\n",
    "    results = keras.backend.ctc_decode(pred, \n",
    "                                        input_length=input_len,\n",
    "                                        greedy=True)[0][0]\n",
    "    \n",
    "    # Iterate over the results and get back the text\n",
    "    output_text = []\n",
    "    for res in results.numpy():\n",
    "        outstr = ''\n",
    "        for c in res:\n",
    "            if c < len(characters) and c >=0:\n",
    "                outstr += label_to_char[c]\n",
    "        output_text.append(outstr)\n",
    "    \n",
    "    # return final text results\n",
    "    return output_text"
   ]
  },
  {
   "cell_type": "code",
   "execution_count": 22,
   "id": "small-fountain",
   "metadata": {
    "execution": {
     "iopub.execute_input": "2021-05-13T21:27:08.692426Z",
     "iopub.status.busy": "2021-05-13T21:27:08.691466Z",
     "iopub.status.idle": "2021-05-13T21:27:10.343341Z",
     "shell.execute_reply": "2021-05-13T21:27:10.342918Z"
    },
    "papermill": {
     "duration": 3.966709,
     "end_time": "2021-05-13T21:27:10.343481",
     "exception": false,
     "start_time": "2021-05-13T21:27:06.376772",
     "status": "completed"
    },
    "tags": []
   },
   "outputs": [
    {
     "name": "stdout",
     "output_type": "stream",
     "text": [
      "Ground truth: ALYSSA \t Predicted: ALYSSA\n",
      "Ground truth: HUGO \t Predicted: NUGO\n",
      "Ground truth: GAUTIER \t Predicted: CAUTIER\n",
      "Ground truth: DE CARUALHO \t Predicted: DE CHRVALHO\n",
      "Ground truth: CAPELLA \t Predicted: CAPELLA\n",
      "Ground truth: PIERRE \t Predicted: PIERRE\n",
      "Ground truth: PASINETTI \t Predicted: PASTNETTT\n",
      "Ground truth: OCEANE \t Predicted: OCCONE\n",
      "Ground truth: RAPHAEL \t Predicted: BAPHOEI\n",
      "Ground truth: LOU-ANNE \t Predicted: LOU-ANNE\n",
      "Ground truth: JEAN-MICHEL \t Predicted: JEAN-MICHEL\n",
      "Ground truth: LEONTE \t Predicted: LEONIE\n",
      "Ground truth: EMPTY \t Predicted: MORANE\n",
      "Ground truth: BOISDON \t Predicted: BOISDON\n",
      "Ground truth: WALTER \t Predicted: WALTER\n",
      "Ground truth: LHOMMELET \t Predicted: LUOMMELET\n",
      "Ground truth: HOUQUET \t Predicted: MOUQUET\n",
      "Ground truth: KAMAL \t Predicted: KAMAL\n",
      "Ground truth: DESUMEUR \t Predicted: DESOMEUR\n",
      "Ground truth: GAUNILLERE \t Predicted: GAUDILLERE\n",
      "Ground truth: MATHIS \t Predicted: KATHIS\n",
      "Ground truth: DIANE \t Predicted: DIANE\n",
      "Ground truth: NGUYEN \t Predicted: NEUYEN\n",
      "Ground truth: MANCOIS \t Predicted: MANCOIS\n",
      "Ground truth: DUBE \t Predicted: DUBE\n",
      "Ground truth: CAMILLE \t Predicted: CAMILLE\n",
      "Ground truth: FLORENTIN \t Predicted: FLORENTIN\n",
      "Ground truth: DEBRY \t Predicted: DEBRY\n",
      "Ground truth: MAYA \t Predicted: MAYA\n",
      "Ground truth: CHEVILLARD \t Predicted: CHEVILLARD\n",
      "Ground truth: EMPTY \t Predicted: MANAD\n",
      "Ground truth: MOUNIER-GUENROC \t Predicted: MOUNIER-GUENROL\n",
      "Ground truth: HURON \t Predicted: HURON\n",
      "Ground truth: CLOTILDE \t Predicted: CLOTILDE\n",
      "Ground truth: KELLY \t Predicted: KELLY\n",
      "Ground truth: ELEONORE \t Predicted: ELEONORE\n",
      "Ground truth: GOURLAOUEN \t Predicted: GOUALAOUEN\n",
      "Ground truth: DEKINDIT \t Predicted: DEKINAT\n",
      "Ground truth: PONNOU \t Predicted: BONNOU\n",
      "Ground truth: GIRARD \t Predicted: GIRARD\n",
      "Ground truth: ESTEBAN \t Predicted: ESTEBAN\n",
      "Ground truth: CHARLOTTE \t Predicted: CHARLOTTE\n",
      "Ground truth: MERGEZ \t Predicted: MERGES\n",
      "Ground truth: LEPETIT \t Predicted: LEPETIT\n",
      "Ground truth: THOMAS \t Predicted: THOMAS\n",
      "Ground truth: KAJAANI \t Predicted: KASAANI\n",
      "Ground truth: LOU \t Predicted: LOU\n",
      "Ground truth: LOU \t Predicted: LOM\n",
      "Ground truth: NICOLAS \t Predicted: NICOLAS\n",
      "Ground truth: MATYS \t Predicted: MATYS\n",
      "Ground truth: NOEMIE \t Predicted: NOEMIE\n",
      "Ground truth: MOULY \t Predicted: MOULY\n",
      "Ground truth: UNREADABLE \t Predicted: A\n",
      "Ground truth: FISTRE \t Predicted: FISTRE\n",
      "Ground truth: TAVERNE \t Predicted: TAVEANE\n",
      "Ground truth: LALIE \t Predicted: LALIE\n",
      "Ground truth: LEO \t Predicted: LEO\n",
      "Ground truth: SAADOUN \t Predicted: SARDOUN\n",
      "Ground truth: MAHMOUIDI \t Predicted: MAMAUDI\n",
      "Ground truth: CHAIB AMENSOU \t Predicted: CHAIB AMENSOU\n",
      "Ground truth: ROULAND \t Predicted: ROULAUD\n",
      "Ground truth: CHAVE \t Predicted: CHAYE\n",
      "Ground truth: ANBRE \t Predicted: AMBRE\n",
      "Ground truth: SERGENT \t Predicted: SERGENT\n",
      "Ground truth: ETHEL \t Predicted: ETHEL\n",
      "Ground truth: YASMIN \t Predicted: YASMIN\n",
      "Ground truth: BEUGIN \t Predicted: BEUGIN\n",
      "Ground truth: DUBARRY \t Predicted: BUBAARY\n",
      "Ground truth: CHOUCROUN \t Predicted: CHOUCROUN\n",
      "Ground truth: DUVAL \t Predicted: DUVAL\n",
      "Ground truth:  \t Predicted: LA\n",
      "Ground truth: BELARBI \t Predicted: DELARDI\n",
      "Ground truth: JANSSEN \t Predicted: JANSSEN\n",
      "Ground truth: AYMERIC \t Predicted: AYMERIC\n",
      "Ground truth: JEAN-MARIE \t Predicted: JEAN-MARIE\n",
      "Ground truth: JEAN-FERNAND \t Predicted: JEAN-FERNAND\n",
      "Ground truth: CREQUER \t Predicted: CREQUER\n",
      "Ground truth: EHANLES \t Predicted: LAAIGEA\n",
      "Ground truth: LHOURS \t Predicted: LHOURS\n",
      "Ground truth: GUERARDEL \t Predicted: GUEXARDEL\n",
      "Ground truth: SOLENE \t Predicted: SOLENE\n",
      "Ground truth: HOLTZRITTER \t Predicted: MOLTIRITTER\n",
      "Ground truth: POLI \t Predicted: POLI\n",
      "Ground truth: RISTICONI \t Predicted: RISTICONI\n",
      "Ground truth: NOE \t Predicted: NEE\n",
      "Ground truth: CELIA \t Predicted: CELIA\n",
      "Ground truth: BASTIEN \t Predicted: BASTIEN\n",
      "Ground truth: PARGNY \t Predicted: PARGNY\n",
      "Ground truth: DEPOIVRE \t Predicted: DEPOIVRE\n",
      "Ground truth: MAXIME \t Predicted: MAXIME\n",
      "Ground truth: DUPIN \t Predicted: DUDIN\n",
      "Ground truth: FOUCHERBERAUT \t Predicted: FOUCHER-BERAUT\n",
      "Ground truth: TERESA \t Predicted: TERCSA\n",
      "Ground truth: VICKIE \t Predicted: VIENIE\n",
      "Ground truth: CARVALHO LOPES \t Predicted: CARVALHO OPES\n",
      "Ground truth: SCHMITT \t Predicted: SCHMITT\n",
      "Ground truth: MICKHAEL \t Predicted: MICKNAEL\n",
      "Ground truth: QUINIO \t Predicted: OUINZO\n",
      "Ground truth: POLGE \t Predicted: POLOE\n",
      "Ground truth: JABBOUR \t Predicted: SABBOUR\n",
      "Ground truth: AIRA \t Predicted: AIRA\n",
      "Ground truth: DA CRUZ \t Predicted: PA CAUZ\n",
      "Ground truth: LOVEPREET \t Predicted: LOUEPREET\n",
      "Ground truth: PIERRE \t Predicted: PIERRE\n",
      "Ground truth: MOREAU \t Predicted: MOREAU\n",
      "Ground truth: LOUKA \t Predicted: LOURA\n",
      "Ground truth: EMRE \t Predicted: EMRE\n",
      "Ground truth: MASSON \t Predicted: MASSON\n",
      "Ground truth: LAURE \t Predicted: LAURE\n",
      "Ground truth: LAUNAY \t Predicted: LAUNAY\n",
      "Ground truth: VALLEE \t Predicted: VALLEE\n",
      "Ground truth: INCHICO \t Predicted: INCHICO\n",
      "Ground truth: ARTHUR \t Predicted: ARTHUR\n",
      "Ground truth: INES \t Predicted: INES\n",
      "Ground truth: NORIN \t Predicted: ORSIN\n",
      "Ground truth: EMELINE \t Predicted: CHELINE\n",
      "Ground truth: DELTTRE \t Predicted: DELATTRE\n",
      "Ground truth: DOMINGUEZ \t Predicted: DOMINGUEZ\n",
      "Ground truth: THOMAS \t Predicted: THOMAS\n",
      "Ground truth: JULES \t Predicted: JULES\n",
      "Ground truth: NATHAN \t Predicted: NATHAN\n",
      "Ground truth: SAIDI \t Predicted: SAIDT\n",
      "Ground truth: ALEXANDRE \t Predicted: ALEXEUDNE\n",
      "Ground truth: ANAIS \t Predicted: ADAIS\n",
      "Ground truth: MAXENCE \t Predicted: MAXENLE\n",
      "Ground truth: ERNY \t Predicted: ERNY\n",
      "Ground truth: GOETZMANN \t Predicted: COETEHANN\n",
      "Ground truth: DI \t Predicted: DIZ\n"
     ]
    },
    {
     "data": {
      "image/png": "[encoded data removed]",
      "text/plain": [
       "<Figure size 432x288 with 1 Axes>"
      ]
     },
     "metadata": {
      "needs_background": "light"
     },
     "output_type": "display_data"
    }
   ],
   "source": [
    "for p, (inp_value, _) in enumerate(validation_generator):\n",
    "    bs = inp_value['input_data'].shape[0]\n",
    "    X_data = inp_value['input_data']\n",
    "    labels = inp_value['input_label']\n",
    "    plt.imshow(X_data[0])\n",
    "    preds = prediction_model.predict(X_data)\n",
    "    pred_texts = decode_batch_predictions(preds)\n",
    "    \n",
    "    \n",
    "    orig_texts = []\n",
    "    for label in labels:\n",
    "        text = ''.join([label_to_char[int(x)] for x in label])\n",
    "        orig_texts.append(text)\n",
    "        \n",
    "    for i in range(bs):\n",
    "        print(f'Ground truth: {orig_texts[i]} \\t Predicted: {pred_texts[i]}')\n",
    "    break"
   ]
  },
  {
   "cell_type": "code",
   "execution_count": 23,
   "id": "canadian-breed",
   "metadata": {
    "execution": {
     "iopub.execute_input": "2021-05-13T21:27:15.033317Z",
     "iopub.status.busy": "2021-05-13T21:27:15.032456Z",
     "iopub.status.idle": "2021-05-13T21:27:15.261140Z",
     "shell.execute_reply": "2021-05-13T21:27:15.260686Z"
    },
    "papermill": {
     "duration": 2.835212,
     "end_time": "2021-05-13T21:27:15.261257",
     "exception": false,
     "start_time": "2021-05-13T21:27:12.426045",
     "status": "completed"
    },
    "tags": []
   },
   "outputs": [
    {
     "name": "stdout",
     "output_type": "stream",
     "text": [
      "Predicted Text: JULES\n"
     ]
    },
    {
     "data": {
      "image/png": "[encoded data removed]",
      "text/plain": [
       "<Figure size 432x288 with 1 Axes>"
      ]
     },
     "metadata": {
      "needs_background": "light"
     },
     "output_type": "display_data"
    }
   ],
   "source": [
    "batch_images=np.ones((128,256,64,1),dtype=np.float32)\n",
    "img=cv2.imread('../input/handwriting-recognition/test_v2/test/TEST_0004.jpg')\n",
    "img=cv2.cvtColor(img, cv2.COLOR_BGR2GRAY)\n",
    "img=cv2.resize(img,(256,64))\n",
    "img=(img/255).astype(np.float32)\n",
    "img=img.T\n",
    "img=np.expand_dims(img,axis=-1)\n",
    "batch_images[0]=img\n",
    "x=prediction_model.predict(batch_images)\n",
    "pred_texts = decode_batch_predictions(x)\n",
    "pred_texts = pred_texts[0]\n",
    "im=cv2.imread('../input/handwriting-recognition/test_v2/test/TEST_0004.jpg')\n",
    "plt.imshow(im)\n",
    "print('Predicted Text:',pred_texts)"
   ]
  }
 ],
 "metadata": {
  "kernelspec": {
   "display_name": "Python 3",
   "language": "python",
   "name": "python3"
  },
  "language_info": {
   "codemirror_mode": {
    "name": "ipython",
    "version": 3
   },
   "file_extension": ".py",
   "mimetype": "text/x-python",
   "name": "python",
   "nbconvert_exporter": "python",
   "pygments_lexer": "ipython3",
   "version": "3.7.9"
  },
  "papermill": {
   "default_parameters": {},
   "duration": 3872.258006,
   "end_time": "2021-05-13T21:27:19.328447",
   "environment_variables": {},
   "exception": null,
   "input_path": "__notebook__.ipynb",
   "output_path": "__notebook__.ipynb",
   "parameters": {},
   "start_time": "2021-05-13T20:22:47.070441",
   "version": "2.3.2"
  }
 },
 "nbformat": 4,
 "nbformat_minor": 5
}
