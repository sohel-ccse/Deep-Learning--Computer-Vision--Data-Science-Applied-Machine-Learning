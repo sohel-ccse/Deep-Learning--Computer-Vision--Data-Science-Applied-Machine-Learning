{
 "cells": [
  {
   "cell_type": "code",
   "execution_count": 1,
   "id": "incorporate-yahoo",
   "metadata": {
    "_cell_guid": "b1076dfc-b9ad-4769-8c92-a6c4dae69d19",
    "_uuid": "8f2839f25d086af736a60e9eeb907d3b93b6e0e5",
    "execution": {
     "iopub.execute_input": "2021-05-12T20:33:39.391561Z",
     "iopub.status.busy": "2021-05-12T20:33:39.389868Z",
     "iopub.status.idle": "2021-05-12T20:33:39.400224Z",
     "shell.execute_reply": "2021-05-12T20:33:39.399658Z"
    },
    "papermill": {
     "duration": 0.035163,
     "end_time": "2021-05-12T20:33:39.400373",
     "exception": false,
     "start_time": "2021-05-12T20:33:39.365210",
     "status": "completed"
    },
    "tags": []
   },
   "outputs": [],
   "source": [
    "# This Python 3 environment comes with many helpful analytics libraries installed\n",
    "# It is defined by the kaggle/python Docker image: https://github.com/kaggle/docker-python\n",
    "# For example, here's several helpful packages to load\n",
    "\n",
    "import numpy as np # linear algebra\n",
    "import pandas as pd # data processing, CSV file I/O (e.g. pd.read_csv)\n",
    "\n",
    "# Input data files are available in the read-only \"../input/\" directory\n",
    "# For example, running this (by clicking run or pressing Shift+Enter) will list all files under the input directory\n",
    "\n",
    "import os\n"
   ]
  },
  {
   "cell_type": "code",
   "execution_count": 2,
   "id": "romance-alaska",
   "metadata": {
    "execution": {
     "iopub.execute_input": "2021-05-12T20:33:39.449678Z",
     "iopub.status.busy": "2021-05-12T20:33:39.447026Z",
     "iopub.status.idle": "2021-05-12T20:33:45.915226Z",
     "shell.execute_reply": "2021-05-12T20:33:45.914706Z"
    },
    "papermill": {
     "duration": 6.494756,
     "end_time": "2021-05-12T20:33:45.915363",
     "exception": false,
     "start_time": "2021-05-12T20:33:39.420607",
     "status": "completed"
    },
    "tags": []
   },
   "outputs": [],
   "source": [
    "import re\n",
    "import matplotlib.pyplot as plt\n",
    "\n",
    "import cv2\n",
    "from PIL import Image\n",
    "from skimage.transform import resize\n",
    "from sklearn.model_selection import train_test_split\n",
    "\n",
    "import keras\n",
    "import tensorflow as tf\n",
    "from keras import backend as K\n",
    "\n",
    "K.set_image_data_format('channels_last')"
   ]
  },
  {
   "cell_type": "code",
   "execution_count": 3,
   "id": "approved-thriller",
   "metadata": {
    "execution": {
     "iopub.execute_input": "2021-05-12T20:33:45.959432Z",
     "iopub.status.busy": "2021-05-12T20:33:45.958518Z",
     "iopub.status.idle": "2021-05-12T20:33:45.962858Z",
     "shell.execute_reply": "2021-05-12T20:33:45.962392Z"
    },
    "papermill": {
     "duration": 0.028106,
     "end_time": "2021-05-12T20:33:45.962990",
     "exception": false,
     "start_time": "2021-05-12T20:33:45.934884",
     "status": "completed"
    },
    "tags": []
   },
   "outputs": [
    {
     "name": "stdout",
     "output_type": "stream",
     "text": [
      "['train_masks.csv', 'sample_submission.csv', 'test', 'train']\n"
     ]
    }
   ],
   "source": [
    "print(os.listdir(\"../input/ultrasound-nerve-segmentation\"))"
   ]
  },
  {
   "cell_type": "code",
   "execution_count": 4,
   "id": "sitting-paste",
   "metadata": {
    "execution": {
     "iopub.execute_input": "2021-05-12T20:33:46.006131Z",
     "iopub.status.busy": "2021-05-12T20:33:46.005507Z",
     "iopub.status.idle": "2021-05-12T20:33:46.532438Z",
     "shell.execute_reply": "2021-05-12T20:33:46.531903Z"
    },
    "papermill": {
     "duration": 0.550746,
     "end_time": "2021-05-12T20:33:46.532651",
     "exception": false,
     "start_time": "2021-05-12T20:33:45.981905",
     "status": "completed"
    },
    "tags": []
   },
   "outputs": [
    {
     "data": {
      "text/plain": [
       "['35_63_mask.tif',\n",
       " '34_68_mask.tif',\n",
       " '22_46.tif',\n",
       " '26_80_mask.tif',\n",
       " '34_6_mask.tif',\n",
       " '13_43.tif',\n",
       " '22_34_mask.tif',\n",
       " '25_102_mask.tif',\n",
       " '13_110_mask.tif',\n",
       " '23_60.tif',\n",
       " '43_79_mask.tif',\n",
       " '29_114_mask.tif',\n",
       " '5_29_mask.tif',\n",
       " '26_60.tif',\n",
       " '44_42.tif',\n",
       " '46_66_mask.tif',\n",
       " '43_53_mask.tif',\n",
       " '7_74.tif',\n",
       " '32_114.tif',\n",
       " '27_103.tif']"
      ]
     },
     "execution_count": 4,
     "metadata": {},
     "output_type": "execute_result"
    }
   ],
   "source": [
    "path = \"../input/ultrasound-nerve-segmentation/train/\"\n",
    "file_list = os.listdir(path)\n",
    "file_list[:20]"
   ]
  },
  {
   "cell_type": "markdown",
   "id": "fantastic-travel",
   "metadata": {
    "papermill": {
     "duration": 0.019361,
     "end_time": "2021-05-12T20:33:46.571979",
     "exception": false,
     "start_time": "2021-05-12T20:33:46.552618",
     "status": "completed"
    },
    "tags": []
   },
   "source": [
    "# Sort the file list in ascending order and seperate it into images and masks"
   ]
  },
  {
   "cell_type": "code",
   "execution_count": 5,
   "id": "experimental-diana",
   "metadata": {
    "execution": {
     "iopub.execute_input": "2021-05-12T20:33:46.810179Z",
     "iopub.status.busy": "2021-05-12T20:33:46.806736Z",
     "iopub.status.idle": "2021-05-12T20:33:46.815875Z",
     "shell.execute_reply": "2021-05-12T20:33:46.816299Z"
    },
    "papermill": {
     "duration": 0.225448,
     "end_time": "2021-05-12T20:33:46.816473",
     "exception": false,
     "start_time": "2021-05-12T20:33:46.591025",
     "status": "completed"
    },
    "tags": []
   },
   "outputs": [
    {
     "data": {
      "text/plain": [
       "['1_1.tif',\n",
       " '1_1_mask.tif',\n",
       " '1_2.tif',\n",
       " '1_2_mask.tif',\n",
       " '1_3.tif',\n",
       " '1_3_mask.tif',\n",
       " '1_4.tif',\n",
       " '1_4_mask.tif',\n",
       " '1_5.tif',\n",
       " '1_5_mask.tif',\n",
       " '1_6.tif',\n",
       " '1_6_mask.tif',\n",
       " '1_7.tif',\n",
       " '1_7_mask.tif',\n",
       " '1_8.tif',\n",
       " '1_8_mask.tif',\n",
       " '1_9.tif',\n",
       " '1_9_mask.tif',\n",
       " '1_10.tif',\n",
       " '1_10_mask.tif']"
      ]
     },
     "execution_count": 5,
     "metadata": {},
     "output_type": "execute_result"
    }
   ],
   "source": [
    "reg = re.compile(\"[0-9]+\")\n",
    "\n",
    "temp1 = list(map(lambda x: reg.match(x).group(), file_list)) \n",
    "temp1 = list(map(int, temp1))\n",
    "\n",
    "temp2 = list(map(lambda x: reg.match(x.split(\"_\")[1]).group(), file_list))\n",
    "temp2 = list(map(int, temp2))\n",
    "\n",
    "file_list = [x for _,_,x in sorted(zip(temp1, temp2, file_list))]\n",
    "file_list[:20]"
   ]
  },
  {
   "cell_type": "code",
   "execution_count": 6,
   "id": "younger-pipeline",
   "metadata": {
    "execution": {
     "iopub.execute_input": "2021-05-12T20:33:46.871638Z",
     "iopub.status.busy": "2021-05-12T20:33:46.869871Z",
     "iopub.status.idle": "2021-05-12T20:33:46.874191Z",
     "shell.execute_reply": "2021-05-12T20:33:46.873696Z"
    },
    "papermill": {
     "duration": 0.036433,
     "end_time": "2021-05-12T20:33:46.874315",
     "exception": false,
     "start_time": "2021-05-12T20:33:46.837882",
     "status": "completed"
    },
    "tags": []
   },
   "outputs": [
    {
     "name": "stdout",
     "output_type": "stream",
     "text": [
      "['1_1.tif', '1_2.tif', '1_3.tif', '1_4.tif', '1_5.tif', '1_6.tif', '1_7.tif', '1_8.tif', '1_9.tif', '1_10.tif'] \n",
      " ['1_1_mask.tif', '1_2_mask.tif', '1_3_mask.tif', '1_4_mask.tif', '1_5_mask.tif', '1_6_mask.tif', '1_7_mask.tif', '1_8_mask.tif', '1_9_mask.tif', '1_10_mask.tif']\n"
     ]
    }
   ],
   "source": [
    "train_image = []\n",
    "\n",
    "train_mask = []\n",
    "\n",
    "for idx, item in enumerate(file_list):\n",
    "    if idx % 2 == 0:\n",
    "        train_image.append(item)\n",
    "    else:\n",
    "        train_mask.append(item)\n",
    "        \n",
    "print(train_image[:10],\"\\n\" ,train_mask[:10])"
   ]
  },
  {
   "cell_type": "code",
   "execution_count": 7,
   "id": "split-match",
   "metadata": {
    "execution": {
     "iopub.execute_input": "2021-05-12T20:33:46.923398Z",
     "iopub.status.busy": "2021-05-12T20:33:46.922737Z",
     "iopub.status.idle": "2021-05-12T20:33:47.475017Z",
     "shell.execute_reply": "2021-05-12T20:33:47.474545Z"
    },
    "papermill": {
     "duration": 0.579571,
     "end_time": "2021-05-12T20:33:47.475149",
     "exception": false,
     "start_time": "2021-05-12T20:33:46.895578",
     "status": "completed"
    },
    "tags": []
   },
   "outputs": [
    {
     "data": {
      "text/plain": [
       "<matplotlib.image.AxesImage at 0x7fc9d1b60b90>"
      ]
     },
     "execution_count": 7,
     "metadata": {},
     "output_type": "execute_result"
    },
    {
     "data": {
      "image/png": "[encoded data removed]",
      "text/plain": [
       "<Figure size 1152x864 with 3 Axes>"
      ]
     },
     "metadata": {
      "needs_background": "light"
     },
     "output_type": "display_data"
    }
   ],
   "source": [
    "# Display the first image and mask of the first subject.\n",
    "image1 = np.array(Image.open(path+\"1_1.tif\"))\n",
    "image1_mask = np.array(Image.open(path+\"1_1_mask.tif\"))\n",
    "image1_mask = np.ma.masked_where(image1_mask == 0, image1_mask)\n",
    "\n",
    "fig, ax = plt.subplots(1,3,figsize = (16,12))\n",
    "ax[0].imshow(image1, cmap = 'gray')\n",
    "\n",
    "ax[1].imshow(image1_mask, cmap = 'gray')\n",
    "\n",
    "ax[2].imshow(image1, cmap = 'gray', interpolation = 'none')\n",
    "ax[2].imshow(image1_mask, cmap = 'jet', interpolation = 'none', alpha = 0.7)"
   ]
  },
  {
   "cell_type": "code",
   "execution_count": 8,
   "id": "associate-illness",
   "metadata": {
    "execution": {
     "iopub.execute_input": "2021-05-12T20:33:47.532026Z",
     "iopub.status.busy": "2021-05-12T20:33:47.531072Z",
     "iopub.status.idle": "2021-05-12T20:43:04.480432Z",
     "shell.execute_reply": "2021-05-12T20:43:04.479893Z"
    },
    "papermill": {
     "duration": 556.980224,
     "end_time": "2021-05-12T20:43:04.480621",
     "exception": false,
     "start_time": "2021-05-12T20:33:47.500397",
     "status": "completed"
    },
    "tags": []
   },
   "outputs": [],
   "source": [
    "## Storing data\n",
    "X = []\n",
    "\n",
    "y = []\n",
    "\n",
    "for image, mask in zip(train_image, train_mask):\n",
    "    \n",
    "    X.append(np.array(Image.open(path+image)))\n",
    "    \n",
    "    y.append(np.array(Image.open(path+mask)))"
   ]
  },
  {
   "cell_type": "code",
   "execution_count": 9,
   "id": "painted-energy",
   "metadata": {
    "execution": {
     "iopub.execute_input": "2021-05-12T20:43:04.540211Z",
     "iopub.status.busy": "2021-05-12T20:43:04.538788Z",
     "iopub.status.idle": "2021-05-12T20:43:05.509256Z",
     "shell.execute_reply": "2021-05-12T20:43:05.509754Z"
    },
    "papermill": {
     "duration": 1.001986,
     "end_time": "2021-05-12T20:43:05.509926",
     "exception": false,
     "start_time": "2021-05-12T20:43:04.507940",
     "status": "completed"
    },
    "tags": []
   },
   "outputs": [
    {
     "name": "stdout",
     "output_type": "stream",
     "text": [
      "X_shape :  (5635, 420, 580)\n",
      "y_shape :  (5635, 420, 580)\n"
     ]
    }
   ],
   "source": [
    "X = np.array(X)\n",
    "y = np.array(y)\n",
    "\n",
    "print(\"X_shape : \", X.shape)\n",
    "print(\"y_shape : \", y.shape)"
   ]
  },
  {
   "cell_type": "code",
   "execution_count": 10,
   "id": "scheduled-colony",
   "metadata": {
    "execution": {
     "iopub.execute_input": "2021-05-12T20:43:05.567987Z",
     "iopub.status.busy": "2021-05-12T20:43:05.567317Z",
     "iopub.status.idle": "2021-05-12T20:43:05.653891Z",
     "shell.execute_reply": "2021-05-12T20:43:05.654357Z"
    },
    "papermill": {
     "duration": 0.118861,
     "end_time": "2021-05-12T20:43:05.654559",
     "exception": false,
     "start_time": "2021-05-12T20:43:05.535698",
     "status": "completed"
    },
    "tags": []
   },
   "outputs": [
    {
     "data": {
      "text/html": [
       "<div>\n",
       "<style scoped>\n",
       "    .dataframe tbody tr th:only-of-type {\n",
       "        vertical-align: middle;\n",
       "    }\n",
       "\n",
       "    .dataframe tbody tr th {\n",
       "        vertical-align: top;\n",
       "    }\n",
       "\n",
       "    .dataframe thead th {\n",
       "        text-align: right;\n",
       "    }\n",
       "</style>\n",
       "<table border=\"1\" class=\"dataframe\">\n",
       "  <thead>\n",
       "    <tr style=\"text-align: right;\">\n",
       "      <th></th>\n",
       "      <th>subject</th>\n",
       "      <th>img</th>\n",
       "      <th>pixels</th>\n",
       "    </tr>\n",
       "  </thead>\n",
       "  <tbody>\n",
       "    <tr>\n",
       "      <th>0</th>\n",
       "      <td>1</td>\n",
       "      <td>1</td>\n",
       "      <td>168153 9 168570 15 168984 22 169401 26 169818 ...</td>\n",
       "    </tr>\n",
       "    <tr>\n",
       "      <th>1</th>\n",
       "      <td>1</td>\n",
       "      <td>2</td>\n",
       "      <td>96346 7 96762 16 97179 27 97595 35 98012 40 98...</td>\n",
       "    </tr>\n",
       "    <tr>\n",
       "      <th>2</th>\n",
       "      <td>1</td>\n",
       "      <td>3</td>\n",
       "      <td>121957 2 122365 26 122784 28 123202 31 123618 ...</td>\n",
       "    </tr>\n",
       "    <tr>\n",
       "      <th>3</th>\n",
       "      <td>1</td>\n",
       "      <td>4</td>\n",
       "      <td>110980 9 111393 21 111810 33 112228 43 112647 ...</td>\n",
       "    </tr>\n",
       "    <tr>\n",
       "      <th>4</th>\n",
       "      <td>1</td>\n",
       "      <td>5</td>\n",
       "      <td>NaN</td>\n",
       "    </tr>\n",
       "  </tbody>\n",
       "</table>\n",
       "</div>"
      ],
      "text/plain": [
       "   subject  img                                             pixels\n",
       "0        1    1  168153 9 168570 15 168984 22 169401 26 169818 ...\n",
       "1        1    2  96346 7 96762 16 97179 27 97595 35 98012 40 98...\n",
       "2        1    3  121957 2 122365 26 122784 28 123202 31 123618 ...\n",
       "3        1    4  110980 9 111393 21 111810 33 112228 43 112647 ...\n",
       "4        1    5                                                NaN"
      ]
     },
     "execution_count": 10,
     "metadata": {},
     "output_type": "execute_result"
    }
   ],
   "source": [
    "mask_df = pd.read_csv(\"../input/ultrasound-nerve-segmentation/train_masks.csv\")\n",
    "mask_df.head()"
   ]
  },
  {
   "cell_type": "code",
   "execution_count": 11,
   "id": "devoted-scanning",
   "metadata": {
    "execution": {
     "iopub.execute_input": "2021-05-12T20:43:05.715678Z",
     "iopub.status.busy": "2021-05-12T20:43:05.714766Z",
     "iopub.status.idle": "2021-05-12T20:43:05.717579Z",
     "shell.execute_reply": "2021-05-12T20:43:05.717116Z"
    },
    "papermill": {
     "duration": 0.03522,
     "end_time": "2021-05-12T20:43:05.717709",
     "exception": false,
     "start_time": "2021-05-12T20:43:05.682489",
     "status": "completed"
    },
    "tags": []
   },
   "outputs": [],
   "source": [
    "width = 580\n",
    "height = 420\n",
    "\n",
    "temp = mask_df[\"pixels\"][0]\n",
    "temp = temp.split(\" \")"
   ]
  },
  {
   "cell_type": "code",
   "execution_count": 12,
   "id": "secure-america",
   "metadata": {
    "execution": {
     "iopub.execute_input": "2021-05-12T20:43:05.776300Z",
     "iopub.status.busy": "2021-05-12T20:43:05.775346Z",
     "iopub.status.idle": "2021-05-12T20:43:05.780073Z",
     "shell.execute_reply": "2021-05-12T20:43:05.779596Z"
    },
    "papermill": {
     "duration": 0.036537,
     "end_time": "2021-05-12T20:43:05.780195",
     "exception": false,
     "start_time": "2021-05-12T20:43:05.743658",
     "status": "completed"
    },
    "tags": []
   },
   "outputs": [],
   "source": [
    "mask1 = np.zeros(height * width)\n",
    "for i, num in enumerate(temp):\n",
    "    if i % 2 == 0:\n",
    "        run = int(num) -1             # very first pixel is 1, not 0\n",
    "        length = int(temp[i+1])\n",
    "        mask1[run:run+length] = 255 \n",
    "\n",
    "#Since pixels are numbered from top to bottom, then left to right, we are careful to change the shape\n",
    "mask1 = mask1.reshape((width, height))\n",
    "mask1 = mask1.T"
   ]
  },
  {
   "cell_type": "code",
   "execution_count": 13,
   "id": "classified-tower",
   "metadata": {
    "execution": {
     "iopub.execute_input": "2021-05-12T20:43:05.839066Z",
     "iopub.status.busy": "2021-05-12T20:43:05.838198Z",
     "iopub.status.idle": "2021-05-12T20:43:05.844015Z",
     "shell.execute_reply": "2021-05-12T20:43:05.843535Z"
    },
    "papermill": {
     "duration": 0.03636,
     "end_time": "2021-05-12T20:43:05.844150",
     "exception": false,
     "start_time": "2021-05-12T20:43:05.807790",
     "status": "completed"
    },
    "tags": []
   },
   "outputs": [
    {
     "data": {
      "text/plain": [
       "0"
      ]
     },
     "execution_count": 13,
     "metadata": {},
     "output_type": "execute_result"
    }
   ],
   "source": [
    "(mask1 != y[0]).sum()"
   ]
  },
  {
   "cell_type": "code",
   "execution_count": 14,
   "id": "military-placement",
   "metadata": {
    "execution": {
     "iopub.execute_input": "2021-05-12T20:43:05.906220Z",
     "iopub.status.busy": "2021-05-12T20:43:05.905300Z",
     "iopub.status.idle": "2021-05-12T20:43:05.907508Z",
     "shell.execute_reply": "2021-05-12T20:43:05.907953Z"
    },
    "papermill": {
     "duration": 0.036852,
     "end_time": "2021-05-12T20:43:05.908110",
     "exception": false,
     "start_time": "2021-05-12T20:43:05.871258",
     "status": "completed"
    },
    "tags": []
   },
   "outputs": [],
   "source": [
    "# RLE : run-length-encoding\n",
    "def RLE_to_image(rle):\n",
    "    '''\n",
    "    rle : array in mask_df[\"pixels\"]\n",
    "    '''\n",
    "    width, height = 580, 420\n",
    "    \n",
    "    if rle == 0:\n",
    "        return np.zeros((height,width))\n",
    "    \n",
    "    else:\n",
    "        rle = rle.split(\" \")\n",
    "        mask = np.zeros(width * height)\n",
    "        for i, num in enumerate(rle):\n",
    "            if i % 2 == 0:\n",
    "                run = int(num) - 1\n",
    "                length = int(rle[i+1])\n",
    "                mask[run:run+length] = 255\n",
    "\n",
    "        mask = mask.reshape((width, height))\n",
    "        mask = mask.T \n",
    "\n",
    "        return mask"
   ]
  },
  {
   "cell_type": "code",
   "execution_count": 15,
   "id": "charged-native",
   "metadata": {
    "execution": {
     "iopub.execute_input": "2021-05-12T20:43:05.968207Z",
     "iopub.status.busy": "2021-05-12T20:43:05.967450Z",
     "iopub.status.idle": "2021-05-12T20:43:05.971007Z",
     "shell.execute_reply": "2021-05-12T20:43:05.971589Z"
    },
    "papermill": {
     "duration": 0.036345,
     "end_time": "2021-05-12T20:43:05.971743",
     "exception": false,
     "start_time": "2021-05-12T20:43:05.935398",
     "status": "completed"
    },
    "tags": []
   },
   "outputs": [
    {
     "name": "stdout",
     "output_type": "stream",
     "text": [
      "The number of train data :  5635\n"
     ]
    }
   ],
   "source": [
    "print(\"The number of train data : \", X.shape[0])"
   ]
  },
  {
   "cell_type": "code",
   "execution_count": 16,
   "id": "middle-entrepreneur",
   "metadata": {
    "execution": {
     "iopub.execute_input": "2021-05-12T20:43:06.037246Z",
     "iopub.status.busy": "2021-05-12T20:43:06.036319Z",
     "iopub.status.idle": "2021-05-12T20:43:06.047309Z",
     "shell.execute_reply": "2021-05-12T20:43:06.046868Z"
    },
    "papermill": {
     "duration": 0.047849,
     "end_time": "2021-05-12T20:43:06.047436",
     "exception": false,
     "start_time": "2021-05-12T20:43:05.999587",
     "status": "completed"
    },
    "tags": []
   },
   "outputs": [
    {
     "data": {
      "text/html": [
       "<div>\n",
       "<style scoped>\n",
       "    .dataframe tbody tr th:only-of-type {\n",
       "        vertical-align: middle;\n",
       "    }\n",
       "\n",
       "    .dataframe tbody tr th {\n",
       "        vertical-align: top;\n",
       "    }\n",
       "\n",
       "    .dataframe thead th {\n",
       "        text-align: right;\n",
       "    }\n",
       "</style>\n",
       "<table border=\"1\" class=\"dataframe\">\n",
       "  <thead>\n",
       "    <tr style=\"text-align: right;\">\n",
       "      <th></th>\n",
       "      <th>subject</th>\n",
       "      <th>N_of_img</th>\n",
       "    </tr>\n",
       "  </thead>\n",
       "  <tbody>\n",
       "    <tr>\n",
       "      <th>29</th>\n",
       "      <td>30</td>\n",
       "      <td>120</td>\n",
       "    </tr>\n",
       "    <tr>\n",
       "      <th>44</th>\n",
       "      <td>45</td>\n",
       "      <td>120</td>\n",
       "    </tr>\n",
       "    <tr>\n",
       "      <th>32</th>\n",
       "      <td>33</td>\n",
       "      <td>120</td>\n",
       "    </tr>\n",
       "    <tr>\n",
       "      <th>25</th>\n",
       "      <td>26</td>\n",
       "      <td>120</td>\n",
       "    </tr>\n",
       "    <tr>\n",
       "      <th>0</th>\n",
       "      <td>1</td>\n",
       "      <td>120</td>\n",
       "    </tr>\n",
       "    <tr>\n",
       "      <th>15</th>\n",
       "      <td>16</td>\n",
       "      <td>120</td>\n",
       "    </tr>\n",
       "    <tr>\n",
       "      <th>40</th>\n",
       "      <td>41</td>\n",
       "      <td>120</td>\n",
       "    </tr>\n",
       "    <tr>\n",
       "      <th>16</th>\n",
       "      <td>17</td>\n",
       "      <td>119</td>\n",
       "    </tr>\n",
       "    <tr>\n",
       "      <th>8</th>\n",
       "      <td>9</td>\n",
       "      <td>120</td>\n",
       "    </tr>\n",
       "    <tr>\n",
       "      <th>17</th>\n",
       "      <td>18</td>\n",
       "      <td>120</td>\n",
       "    </tr>\n",
       "  </tbody>\n",
       "</table>\n",
       "</div>"
      ],
      "text/plain": [
       "    subject  N_of_img\n",
       "29       30       120\n",
       "44       45       120\n",
       "32       33       120\n",
       "25       26       120\n",
       "0         1       120\n",
       "15       16       120\n",
       "40       41       120\n",
       "16       17       119\n",
       "8         9       120\n",
       "17       18       120"
      ]
     },
     "execution_count": 16,
     "metadata": {},
     "output_type": "execute_result"
    }
   ],
   "source": [
    "mask_df.head()\n",
    "subject_df = mask_df[['subject', 'img']].groupby(by = 'subject').agg('count').reset_index()\n",
    "subject_df.columns = ['subject', 'N_of_img']\n",
    "subject_df.sample(10)"
   ]
  },
  {
   "cell_type": "code",
   "execution_count": 17,
   "id": "historical-stocks",
   "metadata": {
    "execution": {
     "iopub.execute_input": "2021-05-12T20:43:06.114107Z",
     "iopub.status.busy": "2021-05-12T20:43:06.113321Z",
     "iopub.status.idle": "2021-05-12T20:43:06.116651Z",
     "shell.execute_reply": "2021-05-12T20:43:06.117122Z"
    },
    "papermill": {
     "duration": 0.041446,
     "end_time": "2021-05-12T20:43:06.117262",
     "exception": false,
     "start_time": "2021-05-12T20:43:06.075816",
     "status": "completed"
    },
    "tags": []
   },
   "outputs": [
    {
     "data": {
      "text/html": [
       "<div>\n",
       "<style scoped>\n",
       "    .dataframe tbody tr th:only-of-type {\n",
       "        vertical-align: middle;\n",
       "    }\n",
       "\n",
       "    .dataframe tbody tr th {\n",
       "        vertical-align: top;\n",
       "    }\n",
       "\n",
       "    .dataframe thead th {\n",
       "        text-align: right;\n",
       "    }\n",
       "</style>\n",
       "<table border=\"1\" class=\"dataframe\">\n",
       "  <thead>\n",
       "    <tr style=\"text-align: right;\">\n",
       "      <th></th>\n",
       "      <th>index</th>\n",
       "      <th>N_of_img</th>\n",
       "    </tr>\n",
       "  </thead>\n",
       "  <tbody>\n",
       "    <tr>\n",
       "      <th>0</th>\n",
       "      <td>120</td>\n",
       "      <td>42</td>\n",
       "    </tr>\n",
       "    <tr>\n",
       "      <th>1</th>\n",
       "      <td>119</td>\n",
       "      <td>5</td>\n",
       "    </tr>\n",
       "  </tbody>\n",
       "</table>\n",
       "</div>"
      ],
      "text/plain": [
       "   index  N_of_img\n",
       "0    120        42\n",
       "1    119         5"
      ]
     },
     "execution_count": 17,
     "metadata": {},
     "output_type": "execute_result"
    }
   ],
   "source": [
    "pd.value_counts(subject_df['N_of_img']).reset_index()"
   ]
  },
  {
   "cell_type": "code",
   "execution_count": 18,
   "id": "ordinary-modeling",
   "metadata": {
    "execution": {
     "iopub.execute_input": "2021-05-12T20:43:06.178677Z",
     "iopub.status.busy": "2021-05-12T20:43:06.178129Z",
     "iopub.status.idle": "2021-05-12T20:43:06.904018Z",
     "shell.execute_reply": "2021-05-12T20:43:06.904437Z"
    },
    "papermill": {
     "duration": 0.759666,
     "end_time": "2021-05-12T20:43:06.904644",
     "exception": false,
     "start_time": "2021-05-12T20:43:06.144978",
     "status": "completed"
    },
    "tags": []
   },
   "outputs": [
    {
     "name": "stdout",
     "output_type": "stream",
     "text": [
      "['1259.tif', '659.tif', '4794.tif', '274.tif', '315.tif', '919.tif', '3360.tif', '2037.tif', '1819.tif', '3660.tif', '1938.tif', '948.tif', '4303.tif', '5067.tif', '4296.tif']\n"
     ]
    }
   ],
   "source": [
    "print(os.listdir(\"../input/ultrasound-nerve-segmentation/test\")[0:15])"
   ]
  },
  {
   "cell_type": "code",
   "execution_count": 19,
   "id": "scenic-vampire",
   "metadata": {
    "execution": {
     "iopub.execute_input": "2021-05-12T20:43:06.969703Z",
     "iopub.status.busy": "2021-05-12T20:43:06.968710Z",
     "iopub.status.idle": "2021-05-12T20:43:06.971799Z",
     "shell.execute_reply": "2021-05-12T20:43:06.971317Z"
    },
    "papermill": {
     "duration": 0.038346,
     "end_time": "2021-05-12T20:43:06.971930",
     "exception": false,
     "start_time": "2021-05-12T20:43:06.933584",
     "status": "completed"
    },
    "tags": []
   },
   "outputs": [],
   "source": [
    "from keras.models import Model, Input, load_model\n",
    "from keras.layers import Input\n",
    "from keras.layers.core import Dropout, Lambda\n",
    "from keras.layers.convolutional import Conv2D, Conv2DTranspose\n",
    "from keras.layers.pooling import MaxPooling2D\n",
    "from keras.layers.merge import concatenate\n",
    "from keras.optimizers import Adam\n",
    "from keras.callbacks import EarlyStopping, ModelCheckpoint\n"
   ]
  },
  {
   "cell_type": "code",
   "execution_count": 20,
   "id": "romantic-gravity",
   "metadata": {
    "execution": {
     "iopub.execute_input": "2021-05-12T20:43:07.041968Z",
     "iopub.status.busy": "2021-05-12T20:43:07.041123Z",
     "iopub.status.idle": "2021-05-12T20:43:07.045045Z",
     "shell.execute_reply": "2021-05-12T20:43:07.044600Z"
    },
    "papermill": {
     "duration": 0.043496,
     "end_time": "2021-05-12T20:43:07.045172",
     "exception": false,
     "start_time": "2021-05-12T20:43:07.001676",
     "status": "completed"
    },
    "tags": []
   },
   "outputs": [],
   "source": [
    "# Randomly choose the indices of data used to train our model.\n",
    "indices = np.random.choice(range(len(train_image)), replace = False ,size = 100)\n",
    "train_image_sample = np.array(train_image)[indices]\n",
    "train_mask_sample = np.array(train_mask)[indices]"
   ]
  },
  {
   "cell_type": "code",
   "execution_count": 21,
   "id": "obvious-majority",
   "metadata": {
    "execution": {
     "iopub.execute_input": "2021-05-12T20:43:07.122567Z",
     "iopub.status.busy": "2021-05-12T20:43:07.121811Z",
     "iopub.status.idle": "2021-05-12T20:43:07.936819Z",
     "shell.execute_reply": "2021-05-12T20:43:07.937257Z"
    },
    "papermill": {
     "duration": 0.862317,
     "end_time": "2021-05-12T20:43:07.937421",
     "exception": false,
     "start_time": "2021-05-12T20:43:07.075104",
     "status": "completed"
    },
    "tags": []
   },
   "outputs": [
    {
     "name": "stdout",
     "output_type": "stream",
     "text": [
      "X shape :  (100, 96, 96, 1)\n",
      "y shape :  (100, 96, 96, 1)\n"
     ]
    }
   ],
   "source": [
    "# Build the dataset.\n",
    "IMG_HEIGHT = 96\n",
    "IMG_WIDTH = 96\n",
    "\n",
    "X = np.empty(shape = (len(indices), IMG_HEIGHT, IMG_WIDTH), dtype = 'float32')\n",
    "y = np.empty(shape = (len(indices), IMG_HEIGHT, IMG_WIDTH), dtype = 'float32')\n",
    "\n",
    "for i, (image_path, mask_path) in enumerate(zip(train_image_sample, train_mask_sample)):\n",
    "    image = cv2.imread(\"../input/ultrasound-nerve-segmentation/train/\" + image_path, 0)\n",
    "    mask = cv2.imread(\"../input/ultrasound-nerve-segmentation/train/\" + mask_path, 0)\n",
    "    \n",
    "    image = cv2.resize(image, (IMG_HEIGHT, IMG_WIDTH),interpolation = cv2.INTER_AREA)\n",
    "    mask = cv2.resize(mask, (IMG_HEIGHT, IMG_WIDTH),interpolation = cv2.INTER_AREA)\n",
    "    \n",
    "    X[i] = image\n",
    "    y[i] = mask\n",
    "\n",
    "X = X[:,:,:,np.newaxis] / 255\n",
    "y = y[:,:,:,np.newaxis] / 255\n",
    "print(\"X shape : \", X.shape)\n",
    "print(\"y shape : \", y.shape)"
   ]
  },
  {
   "cell_type": "code",
   "execution_count": 22,
   "id": "valuable-madrid",
   "metadata": {
    "execution": {
     "iopub.execute_input": "2021-05-12T20:43:08.004518Z",
     "iopub.status.busy": "2021-05-12T20:43:08.003584Z",
     "iopub.status.idle": "2021-05-12T20:43:08.006150Z",
     "shell.execute_reply": "2021-05-12T20:43:08.006628Z"
    },
    "papermill": {
     "duration": 0.039071,
     "end_time": "2021-05-12T20:43:08.006774",
     "exception": false,
     "start_time": "2021-05-12T20:43:07.967703",
     "status": "completed"
    },
    "tags": []
   },
   "outputs": [],
   "source": [
    "smooth = 1.\n",
    "\n",
    "def dice_coef(y_true, y_pred):\n",
    "    y_true_f = K.flatten(y_true)\n",
    "    y_pred_f = K.flatten(y_pred)\n",
    "    intersection = K.sum(y_true_f * y_pred_f)\n",
    "    return (2. * intersection + smooth) / (K.sum(y_true_f) + K.sum(y_pred_f) + smooth)\n",
    "\n",
    "\n",
    "def dice_coef_loss(y_true, y_pred):\n",
    "    return -dice_coef(y_true, y_pred)\n"
   ]
  },
  {
   "cell_type": "code",
   "execution_count": 23,
   "id": "structured-register",
   "metadata": {
    "execution": {
     "iopub.execute_input": "2021-05-12T20:43:08.086851Z",
     "iopub.status.busy": "2021-05-12T20:43:08.086179Z",
     "iopub.status.idle": "2021-05-12T20:43:10.615529Z",
     "shell.execute_reply": "2021-05-12T20:43:10.614149Z"
    },
    "papermill": {
     "duration": 2.578373,
     "end_time": "2021-05-12T20:43:10.615671",
     "exception": false,
     "start_time": "2021-05-12T20:43:08.037298",
     "status": "completed"
    },
    "tags": []
   },
   "outputs": [],
   "source": [
    "inputs = Input((IMG_HEIGHT, IMG_WIDTH, 1))\n",
    "\n",
    "conv1 = Conv2D(32, (3, 3), activation='relu', padding='same')(inputs)\n",
    "conv1 = Conv2D(32, (3, 3), activation='relu', padding='same')(conv1)\n",
    "pool1 = MaxPooling2D(pool_size=(2, 2))(conv1)\n",
    "\n",
    "conv2 = Conv2D(64, (3, 3), activation='relu', padding='same')(pool1)\n",
    "conv2 = Conv2D(64, (3, 3), activation='relu', padding='same')(conv2)\n",
    "pool2 = MaxPooling2D(pool_size=(2, 2))(conv2)\n",
    "\n",
    "conv3 = Conv2D(128, (3, 3), activation='relu', padding='same')(pool2)\n",
    "conv3 = Conv2D(128, (3, 3), activation='relu', padding='same')(conv3)\n",
    "pool3 = MaxPooling2D(pool_size=(2, 2))(conv3)\n",
    "\n",
    "conv4 = Conv2D(256, (3, 3), activation='relu', padding='same')(pool3)\n",
    "conv4 = Conv2D(256, (3, 3), activation='relu', padding='same')(conv4)\n",
    "pool4 = MaxPooling2D(pool_size=(2, 2))(conv4)\n",
    "\n",
    "conv5 = Conv2D(512, (3, 3), activation='relu', padding='same')(pool4)\n",
    "conv5 = Conv2D(512, (3, 3), activation='relu', padding='same')(conv5)\n",
    "\n",
    "up6 = concatenate([Conv2DTranspose(256, (2, 2), strides=(2, 2), padding='same')(conv5), conv4], axis=3)\n",
    "conv6 = Conv2D(256, (3, 3), activation='relu', padding='same')(up6)\n",
    "conv6 = Conv2D(256, (3, 3), activation='relu', padding='same')(conv6)\n",
    "\n",
    "up7 = concatenate([Conv2DTranspose(128, (2, 2), strides=(2, 2), padding='same')(conv6), conv3], axis=3)\n",
    "conv7 = Conv2D(128, (3, 3), activation='relu', padding='same')(up7)\n",
    "conv7 = Conv2D(128, (3, 3), activation='relu', padding='same')(conv7)\n",
    "\n",
    "up8 = concatenate([Conv2DTranspose(64, (2, 2), strides=(2, 2), padding='same')(conv7), conv2], axis=3)\n",
    "conv8 = Conv2D(64, (3, 3), activation='relu', padding='same')(up8)\n",
    "conv8 = Conv2D(64, (3, 3), activation='relu', padding='same')(conv8)\n",
    "\n",
    "up9 = concatenate([Conv2DTranspose(32, (2, 2), strides=(2, 2), padding='same')(conv8), conv1], axis=3)\n",
    "conv9 = Conv2D(32, (3, 3), activation='relu', padding='same')(up9)\n",
    "conv9 = Conv2D(32, (3, 3), activation='relu', padding='same')(conv9)\n",
    "\n",
    "conv10 = Conv2D(1, (1, 1), activation='sigmoid')(conv9)\n",
    "\n",
    "model = Model(inputs=[inputs], outputs=[conv10])\n",
    "model.compile(optimizer=Adam(lr = 1e-5), loss=dice_coef_loss, metrics=[dice_coef])"
   ]
  },
  {
   "cell_type": "code",
   "execution_count": 24,
   "id": "optical-bloom",
   "metadata": {
    "execution": {
     "iopub.execute_input": "2021-05-12T20:43:10.685164Z",
     "iopub.status.busy": "2021-05-12T20:43:10.684477Z",
     "iopub.status.idle": "2021-05-12T20:43:52.451228Z",
     "shell.execute_reply": "2021-05-12T20:43:52.450687Z"
    },
    "papermill": {
     "duration": 41.804575,
     "end_time": "2021-05-12T20:43:52.451370",
     "exception": false,
     "start_time": "2021-05-12T20:43:10.646795",
     "status": "completed"
    },
    "tags": []
   },
   "outputs": [
    {
     "name": "stdout",
     "output_type": "stream",
     "text": [
      "Epoch 1/20\n",
      "23/23 [==============================] - 9s 131ms/step - loss: -0.0282 - dice_coef: 0.0282 - val_loss: -0.0120 - val_dice_coef: 0.0100\n",
      "Epoch 2/20\n",
      "23/23 [==============================] - 2s 74ms/step - loss: -0.0266 - dice_coef: 0.0266 - val_loss: -0.0120 - val_dice_coef: 0.0100\n",
      "Epoch 3/20\n",
      "23/23 [==============================] - 2s 75ms/step - loss: -0.0325 - dice_coef: 0.0325 - val_loss: -0.0120 - val_dice_coef: 0.0100\n",
      "Epoch 4/20\n",
      "23/23 [==============================] - 2s 75ms/step - loss: -0.0271 - dice_coef: 0.0271 - val_loss: -0.0120 - val_dice_coef: 0.0100\n",
      "Epoch 5/20\n",
      "23/23 [==============================] - 2s 74ms/step - loss: -0.0249 - dice_coef: 0.0249 - val_loss: -0.0120 - val_dice_coef: 0.0101\n",
      "Epoch 6/20\n",
      "23/23 [==============================] - 2s 75ms/step - loss: -0.0229 - dice_coef: 0.0228 - val_loss: -0.0121 - val_dice_coef: 0.0101\n",
      "Epoch 7/20\n",
      "23/23 [==============================] - 2s 74ms/step - loss: -0.0249 - dice_coef: 0.0249 - val_loss: -0.0121 - val_dice_coef: 0.0101\n",
      "Epoch 8/20\n",
      "23/23 [==============================] - 2s 74ms/step - loss: -0.0251 - dice_coef: 0.0252 - val_loss: -0.0121 - val_dice_coef: 0.0101\n",
      "Epoch 9/20\n",
      "23/23 [==============================] - 2s 74ms/step - loss: -0.0267 - dice_coef: 0.0267 - val_loss: -0.0122 - val_dice_coef: 0.0101\n",
      "Epoch 10/20\n",
      "23/23 [==============================] - 2s 75ms/step - loss: -0.0266 - dice_coef: 0.0266 - val_loss: -0.0122 - val_dice_coef: 0.0102\n",
      "Epoch 11/20\n",
      "23/23 [==============================] - 2s 74ms/step - loss: -0.0242 - dice_coef: 0.0242 - val_loss: -0.0123 - val_dice_coef: 0.0102\n",
      "Epoch 12/20\n",
      "23/23 [==============================] - 2s 74ms/step - loss: -0.0267 - dice_coef: 0.0268 - val_loss: -0.0124 - val_dice_coef: 0.0103\n",
      "Epoch 13/20\n",
      "23/23 [==============================] - 2s 74ms/step - loss: -0.0266 - dice_coef: 0.0266 - val_loss: -0.0126 - val_dice_coef: 0.0105\n",
      "Epoch 14/20\n",
      "23/23 [==============================] - 2s 74ms/step - loss: -0.0313 - dice_coef: 0.0313 - val_loss: -0.0130 - val_dice_coef: 0.0109\n",
      "Epoch 15/20\n",
      "23/23 [==============================] - 2s 74ms/step - loss: -0.0300 - dice_coef: 0.0300 - val_loss: -0.0134 - val_dice_coef: 0.0112\n",
      "Epoch 16/20\n",
      "23/23 [==============================] - 2s 74ms/step - loss: -0.0290 - dice_coef: 0.0290 - val_loss: -0.0137 - val_dice_coef: 0.0115\n",
      "Epoch 17/20\n",
      "23/23 [==============================] - 2s 74ms/step - loss: -0.0309 - dice_coef: 0.0309 - val_loss: -0.0154 - val_dice_coef: 0.0129\n",
      "Epoch 18/20\n",
      "23/23 [==============================] - 2s 74ms/step - loss: -0.0359 - dice_coef: 0.0361 - val_loss: -0.0186 - val_dice_coef: 0.0155\n",
      "Epoch 19/20\n",
      "23/23 [==============================] - 2s 74ms/step - loss: -0.0430 - dice_coef: 0.0430 - val_loss: -0.0196 - val_dice_coef: 0.0164\n",
      "Epoch 20/20\n",
      "23/23 [==============================] - 2s 76ms/step - loss: -0.0471 - dice_coef: 0.0474 - val_loss: -0.0230 - val_dice_coef: 0.0192\n"
     ]
    }
   ],
   "source": [
    "results = model.fit(X, y, validation_split=0.1, batch_size=4, epochs=20)"
   ]
  },
  {
   "cell_type": "code",
   "execution_count": 25,
   "id": "stopped-mexican",
   "metadata": {
    "execution": {
     "iopub.execute_input": "2021-05-12T20:43:52.781870Z",
     "iopub.status.busy": "2021-05-12T20:43:52.781138Z",
     "iopub.status.idle": "2021-05-12T20:43:52.785186Z",
     "shell.execute_reply": "2021-05-12T20:43:52.784685Z"
    },
    "papermill": {
     "duration": 0.170643,
     "end_time": "2021-05-12T20:43:52.785322",
     "exception": false,
     "start_time": "2021-05-12T20:43:52.614679",
     "status": "completed"
    },
    "tags": []
   },
   "outputs": [],
   "source": [
    "def Generator(X_list, y_list, batch_size = 16):\n",
    "    c = 0\n",
    "\n",
    "    while(True):\n",
    "        X = np.empty((batch_size, IMG_HEIGHT, IMG_WIDTH), dtype = 'float32')\n",
    "        y = np.empty((batch_size, IMG_HEIGHT, IMG_WIDTH), dtype = 'float32')\n",
    "        \n",
    "        for i in range(c,c+batch_size):\n",
    "            image = cv2.imread(\"../input/ultrasound-nerve-segmentation/train/\" + X_list[i], 0)\n",
    "            mask = cv2.imread(\"../input/ultrasound-nerve-segmentation/train/\" + y_list[i], 0)\n",
    "    \n",
    "            image = cv2.resize(image, (IMG_HEIGHT, IMG_WIDTH), interpolation = cv2.INTER_AREA)\n",
    "            mask = cv2.resize(mask, (IMG_HEIGHT, IMG_WIDTH), interpolation = cv2.INTER_AREA)\n",
    "    \n",
    "            X[i - c] = image\n",
    "            y[i - c] = mask\n",
    "        \n",
    "        X = X[:,:,:,np.newaxis] / 255\n",
    "        y = y[:,:,:,np.newaxis] / 255\n",
    "        \n",
    "        c += batch_size\n",
    "        if(c+batch_size >= len(X_list)):\n",
    "            c = 0\n",
    "        yield X, y    "
   ]
  },
  {
   "cell_type": "code",
   "execution_count": 26,
   "id": "short-contrast",
   "metadata": {
    "execution": {
     "iopub.execute_input": "2021-05-12T20:43:53.127992Z",
     "iopub.status.busy": "2021-05-12T20:43:53.125931Z",
     "iopub.status.idle": "2021-05-12T20:43:53.142766Z",
     "shell.execute_reply": "2021-05-12T20:43:53.142212Z"
    },
    "papermill": {
     "duration": 0.196645,
     "end_time": "2021-05-12T20:43:53.142904",
     "exception": false,
     "start_time": "2021-05-12T20:43:52.946259",
     "status": "completed"
    },
    "tags": []
   },
   "outputs": [],
   "source": [
    "X_train, X_val, y_train, y_val = train_test_split(train_image, train_mask, test_size = 0.2, random_state = 42)\n",
    "\n",
    "epochs = 20\n",
    "batch_size = 8\n",
    "steps_per_epoch = int(len(X_train) / batch_size)\n",
    "validation_steps = int(len(X_val) / batch_size)\n",
    "\n",
    "train_gen = Generator(X_train, y_train, batch_size = batch_size)\n",
    "val_gen = Generator(X_val, y_val, batch_size = batch_size)\n",
    "\n",
    "model = Model(inputs=[inputs], outputs=[conv10])\n",
    "model.compile(optimizer=Adam(lr = 1e-5), loss=dice_coef_loss, metrics=[dice_coef])"
   ]
  },
  {
   "cell_type": "code",
   "execution_count": 27,
   "id": "hindu-retro",
   "metadata": {
    "execution": {
     "iopub.execute_input": "2021-05-12T20:43:53.466720Z",
     "iopub.status.busy": "2021-05-12T20:43:53.465913Z",
     "iopub.status.idle": "2021-05-12T21:11:15.787528Z",
     "shell.execute_reply": "2021-05-12T21:11:15.788272Z"
    },
    "papermill": {
     "duration": 1642.485086,
     "end_time": "2021-05-12T21:11:15.788549",
     "exception": false,
     "start_time": "2021-05-12T20:43:53.303463",
     "status": "completed"
    },
    "tags": []
   },
   "outputs": [
    {
     "name": "stderr",
     "output_type": "stream",
     "text": [
      "/opt/conda/lib/python3.7/site-packages/tensorflow/python/keras/engine/training.py:1844: UserWarning: `Model.fit_generator` is deprecated and will be removed in a future version. Please use `Model.fit`, which supports generators.\n",
      "  warnings.warn('`Model.fit_generator` is deprecated and '\n"
     ]
    },
    {
     "name": "stdout",
     "output_type": "stream",
     "text": [
      "Epoch 1/20\n",
      "563/563 [==============================] - 84s 145ms/step - loss: -0.1606 - dice_coef: 0.1606 - val_loss: -0.2574 - val_dice_coef: 0.2574\n",
      "Epoch 2/20\n",
      "563/563 [==============================] - 81s 145ms/step - loss: -0.1784 - dice_coef: 0.1784 - val_loss: -0.0014 - val_dice_coef: 0.0014\n",
      "Epoch 3/20\n",
      "563/563 [==============================] - 82s 145ms/step - loss: -0.0098 - dice_coef: 0.0098 - val_loss: -0.0014 - val_dice_coef: 0.0014\n",
      "Epoch 4/20\n",
      "563/563 [==============================] - 82s 145ms/step - loss: -0.0098 - dice_coef: 0.0098 - val_loss: -0.0014 - val_dice_coef: 0.0014\n",
      "Epoch 5/20\n",
      "563/563 [==============================] - 81s 144ms/step - loss: -0.0098 - dice_coef: 0.0098 - val_loss: -0.0014 - val_dice_coef: 0.0014\n",
      "Epoch 6/20\n",
      "563/563 [==============================] - 82s 145ms/step - loss: -0.0098 - dice_coef: 0.0098 - val_loss: -0.0014 - val_dice_coef: 0.0014\n",
      "Epoch 7/20\n",
      "563/563 [==============================] - 81s 145ms/step - loss: -0.0098 - dice_coef: 0.0098 - val_loss: -0.0014 - val_dice_coef: 0.0014\n",
      "Epoch 8/20\n",
      "563/563 [==============================] - 82s 145ms/step - loss: -0.0098 - dice_coef: 0.0098 - val_loss: -0.0014 - val_dice_coef: 0.0014\n",
      "Epoch 9/20\n",
      "563/563 [==============================] - 82s 145ms/step - loss: -0.0098 - dice_coef: 0.0098 - val_loss: -0.0014 - val_dice_coef: 0.0014\n",
      "Epoch 10/20\n",
      "563/563 [==============================] - 82s 146ms/step - loss: -0.0098 - dice_coef: 0.0098 - val_loss: -0.0014 - val_dice_coef: 0.0014\n",
      "Epoch 11/20\n",
      "563/563 [==============================] - 82s 145ms/step - loss: -0.0098 - dice_coef: 0.0098 - val_loss: -0.0014 - val_dice_coef: 0.0014\n",
      "Epoch 12/20\n",
      "563/563 [==============================] - 82s 145ms/step - loss: -0.0098 - dice_coef: 0.0098 - val_loss: -0.0014 - val_dice_coef: 0.0014\n",
      "Epoch 13/20\n",
      "563/563 [==============================] - 82s 146ms/step - loss: -0.0098 - dice_coef: 0.0098 - val_loss: -0.0014 - val_dice_coef: 0.0014\n",
      "Epoch 14/20\n",
      "563/563 [==============================] - 82s 146ms/step - loss: -0.0098 - dice_coef: 0.0098 - val_loss: -0.0014 - val_dice_coef: 0.0014\n",
      "Epoch 15/20\n",
      "563/563 [==============================] - 82s 146ms/step - loss: -0.0098 - dice_coef: 0.0098 - val_loss: -0.0014 - val_dice_coef: 0.0014\n",
      "Epoch 16/20\n",
      "563/563 [==============================] - 82s 146ms/step - loss: -0.0098 - dice_coef: 0.0098 - val_loss: -0.0014 - val_dice_coef: 0.0014\n",
      "Epoch 17/20\n",
      "563/563 [==============================] - 82s 146ms/step - loss: -0.0098 - dice_coef: 0.0098 - val_loss: -0.0014 - val_dice_coef: 0.0014\n",
      "Epoch 18/20\n",
      "563/563 [==============================] - 82s 146ms/step - loss: -0.0098 - dice_coef: 0.0098 - val_loss: -0.0014 - val_dice_coef: 0.0014\n",
      "Epoch 19/20\n",
      "563/563 [==============================] - 82s 145ms/step - loss: -0.0098 - dice_coef: 0.0098 - val_loss: -0.0014 - val_dice_coef: 0.0014\n",
      "Epoch 20/20\n",
      "563/563 [==============================] - 82s 146ms/step - loss: -0.0098 - dice_coef: 0.0098 - val_loss: -0.0014 - val_dice_coef: 0.0014\n"
     ]
    }
   ],
   "source": [
    "history = model.fit_generator(train_gen, steps_per_epoch=steps_per_epoch, epochs = epochs,\n",
    "                             validation_data = val_gen, validation_steps = validation_steps)"
   ]
  },
  {
   "cell_type": "code",
   "execution_count": 28,
   "id": "divine-master",
   "metadata": {
    "execution": {
     "iopub.execute_input": "2021-05-12T21:11:22.640340Z",
     "iopub.status.busy": "2021-05-12T21:11:22.639693Z",
     "iopub.status.idle": "2021-05-12T21:11:22.670230Z",
     "shell.execute_reply": "2021-05-12T21:11:22.669798Z"
    },
    "papermill": {
     "duration": 3.317836,
     "end_time": "2021-05-12T21:11:22.670350",
     "exception": false,
     "start_time": "2021-05-12T21:11:19.352514",
     "status": "completed"
    },
    "tags": []
   },
   "outputs": [
    {
     "name": "stdout",
     "output_type": "stream",
     "text": [
      "The number of test data :  5508\n"
     ]
    },
    {
     "data": {
      "text/plain": [
       "['1.tif',\n",
       " '2.tif',\n",
       " '3.tif',\n",
       " '4.tif',\n",
       " '5.tif',\n",
       " '6.tif',\n",
       " '7.tif',\n",
       " '8.tif',\n",
       " '9.tif',\n",
       " '10.tif',\n",
       " '11.tif',\n",
       " '12.tif',\n",
       " '13.tif',\n",
       " '14.tif',\n",
       " '15.tif']"
      ]
     },
     "execution_count": 28,
     "metadata": {},
     "output_type": "execute_result"
    }
   ],
   "source": [
    "sub = pd.read_csv(\"../input/ultrasound-nerve-segmentation/sample_submission.csv\")\n",
    "test_list = os.listdir(\"../input/ultrasound-nerve-segmentation/test\")\n",
    "\n",
    "print(\"The number of test data : \", len(test_list))\n",
    "\n",
    "# Sort the test set in ascending order.\n",
    "reg = re.compile(\"[0-9]+\")\n",
    "\n",
    "temp1 = list(map(lambda x: reg.match(x).group(), test_list)) \n",
    "temp1 = list(map(int, temp1))\n",
    "\n",
    "test_list = [x for _,x in sorted(zip(temp1, test_list))]\n",
    "\n",
    "test_list[:15]"
   ]
  },
  {
   "cell_type": "code",
   "execution_count": 29,
   "id": "yellow-entity",
   "metadata": {
    "execution": {
     "iopub.execute_input": "2021-05-12T21:11:29.378614Z",
     "iopub.status.busy": "2021-05-12T21:11:29.378008Z",
     "iopub.status.idle": "2021-05-12T21:14:13.079291Z",
     "shell.execute_reply": "2021-05-12T21:14:13.078520Z"
    },
    "papermill": {
     "duration": 167.241248,
     "end_time": "2021-05-12T21:14:13.079554",
     "exception": false,
     "start_time": "2021-05-12T21:11:25.838306",
     "status": "completed"
    },
    "tags": []
   },
   "outputs": [],
   "source": [
    "X_test = np.empty((len(test_list), IMG_HEIGHT, IMG_WIDTH), dtype = 'float32')\n",
    "for i, item in enumerate(test_list):\n",
    "    image = cv2.imread(\"../input/ultrasound-nerve-segmentation/test/\" + item, 0)\n",
    "    image = cv2.resize(image, (IMG_HEIGHT, IMG_WIDTH), interpolation = cv2.INTER_AREA)\n",
    "    X_test[i] = image\n",
    "X_test = X_test[:,:,:,np.newaxis] / 255\n",
    "\n",
    "y_pred = model.predict(X_test)"
   ]
  },
  {
   "cell_type": "code",
   "execution_count": 30,
   "id": "moved-collective",
   "metadata": {
    "execution": {
     "iopub.execute_input": "2021-05-12T21:14:19.433981Z",
     "iopub.status.busy": "2021-05-12T21:14:19.433302Z",
     "iopub.status.idle": "2021-05-12T21:14:58.744523Z",
     "shell.execute_reply": "2021-05-12T21:14:58.738062Z"
    },
    "papermill": {
     "duration": 42.447777,
     "end_time": "2021-05-12T21:14:58.744659",
     "exception": false,
     "start_time": "2021-05-12T21:14:16.296882",
     "status": "completed"
    },
    "tags": []
   },
   "outputs": [
    {
     "name": "stdout",
     "output_type": "stream",
     "text": [
      "5500/5508\r"
     ]
    }
   ],
   "source": [
    "def run_length_enc(label):\n",
    "    from itertools import chain\n",
    "    x = label.transpose().flatten()\n",
    "    y = np.where(x > 0)[0]\n",
    "    if len(y) < 10:  # consider as empty\n",
    "        return ''\n",
    "    z = np.where(np.diff(y) > 1)[0]\n",
    "    start = np.insert(y[z+1], 0, y[0])\n",
    "    end = np.append(y[z], y[-1])\n",
    "    length = end - start\n",
    "    res = [[s+1, l+1] for s, l in zip(list(start), list(length))]\n",
    "    res = list(chain.from_iterable(res))\n",
    "    return ' '.join([str(r) for r in res])\n",
    "rles = []\n",
    "for i in range(X_test.shape[0]):\n",
    "    img = y_pred[i, :, :, 0]\n",
    "    img = img > 0.5\n",
    "    img = resize(img, (420, 580), preserve_range=True)\n",
    "    rle = run_length_enc(img)\n",
    "    rles.append(rle)\n",
    "    if i % 100 == 0:\n",
    "            print('{}/{}'.format(i, X_test.shape[0]), end = \"\\r\")"
   ]
  },
  {
   "cell_type": "code",
   "execution_count": 31,
   "id": "improved-vertical",
   "metadata": {
    "execution": {
     "iopub.execute_input": "2021-05-12T21:15:05.179064Z",
     "iopub.status.busy": "2021-05-12T21:15:05.178142Z",
     "iopub.status.idle": "2021-05-12T21:15:05.334898Z",
     "shell.execute_reply": "2021-05-12T21:15:05.334363Z"
    },
    "papermill": {
     "duration": 3.434885,
     "end_time": "2021-05-12T21:15:05.335046",
     "exception": false,
     "start_time": "2021-05-12T21:15:01.900161",
     "status": "completed"
    },
    "tags": []
   },
   "outputs": [],
   "source": [
    "sub['pixels'] = rles\n",
    "sub.to_csv(\"submission.csv\", index = False)"
   ]
  }
 ],
 "metadata": {
  "kernelspec": {
   "display_name": "Python 3",
   "language": "python",
   "name": "python3"
  },
  "language_info": {
   "codemirror_mode": {
    "name": "ipython",
    "version": 3
   },
   "file_extension": ".py",
   "mimetype": "text/x-python",
   "name": "python",
   "nbconvert_exporter": "python",
   "pygments_lexer": "ipython3",
   "version": "3.7.10"
  },
  "papermill": {
   "default_parameters": {},
   "duration": 2500.082934,
   "end_time": "2021-05-12T21:15:11.725623",
   "environment_variables": {},
   "exception": null,
   "input_path": "__notebook__.ipynb",
   "output_path": "__notebook__.ipynb",
   "parameters": {},
   "start_time": "2021-05-12T20:33:31.642689",
   "version": "2.3.3"
  }
 },
 "nbformat": 4,
 "nbformat_minor": 5
}
